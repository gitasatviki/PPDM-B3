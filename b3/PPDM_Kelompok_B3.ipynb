{
  "cells": [
    {
      "cell_type": "markdown",
      "metadata": {
        "id": "mOZiuXmZ0vbY"
      },
      "source": [
        "**DOWNLOAD LIBRARY**"
      ]
    },
    {
      "cell_type": "code",
      "execution_count": null,
      "metadata": {
        "colab": {
          "base_uri": "https://localhost:8080/"
        },
        "id": "1xzHVSLqmtGS",
        "outputId": "bd3553ce-4a8e-4e0f-9c3d-a802b233d672"
      },
      "outputs": [
        {
          "name": "stdout",
          "output_type": "stream",
          "text": [
            "Collecting Sastrawi\n",
            "  Downloading Sastrawi-1.0.1-py2.py3-none-any.whl (209 kB)\n",
            "\u001b[2K     \u001b[90m━━━━━━━━━━━━━━━━━━━━━━━━━━━━━━━━━━━━━━━━\u001b[0m \u001b[32m209.7/209.7 kB\u001b[0m \u001b[31m4.0 MB/s\u001b[0m eta \u001b[36m0:00:00\u001b[0m\n",
            "\u001b[?25hInstalling collected packages: Sastrawi\n",
            "Successfully installed Sastrawi-1.0.1\n"
          ]
        }
      ],
      "source": [
        "!pip install Sastrawi"
      ]
    },
    {
      "cell_type": "code",
      "execution_count": null,
      "metadata": {
        "colab": {
          "background_save": true,
          "base_uri": "https://localhost:8080/"
        },
        "id": "IOOfozaofFfJ",
        "outputId": "e808211a-5858-40f7-f8b1-0160ac5de7f7"
      },
      "outputs": [
        {
          "name": "stdout",
          "output_type": "stream",
          "text": [
            "Collecting swifter\n",
            "  Downloading swifter-1.4.0.tar.gz (1.2 MB)\n",
            "\u001b[?25l     \u001b[90m━━━━━━━━━━━━━━━━━━━━━━━━━━━━━━━━━━━━━━━━\u001b[0m \u001b[32m0.0/1.2 MB\u001b[0m \u001b[31m?\u001b[0m eta \u001b[36m-:--:--\u001b[0m\r\u001b[2K     \u001b[91m━━━━━━━━━━━━\u001b[0m\u001b[90m╺\u001b[0m\u001b[90m━━━━━━━━━━━━━━━━━━━━━━━━━━━\u001b[0m \u001b[32m0.4/1.2 MB\u001b[0m \u001b[31m10.5 MB/s\u001b[0m eta \u001b[36m0:00:01\u001b[0m\r\u001b[2K     \u001b[91m━━━━━━━━━━━━━━━━━━━━━━━━━━━━━━━━━━━━━━━\u001b[0m\u001b[91m╸\u001b[0m \u001b[32m1.2/1.2 MB\u001b[0m \u001b[31m23.2 MB/s\u001b[0m eta \u001b[36m0:00:01\u001b[0m\r\u001b[2K     \u001b[90m━━━━━━━━━━━━━━━━━━━━━━━━━━━━━━━━━━━━━━━━\u001b[0m \u001b[32m1.2/1.2 MB\u001b[0m \u001b[31m15.9 MB/s\u001b[0m eta \u001b[36m0:00:00\u001b[0m\n",
            "\u001b[?25h  Preparing metadata (setup.py) ... \u001b[?25l\u001b[?25hdone\n",
            "Requirement already satisfied: pandas>=1.0.0 in /usr/local/lib/python3.10/dist-packages (from swifter) (2.0.3)\n",
            "Requirement already satisfied: psutil>=5.6.6 in /usr/local/lib/python3.10/dist-packages (from swifter) (5.9.5)\n",
            "Requirement already satisfied: dask[dataframe]>=2.10.0 in /usr/local/lib/python3.10/dist-packages (from swifter) (2023.8.1)\n",
            "Requirement already satisfied: tqdm>=4.33.0 in /usr/local/lib/python3.10/dist-packages (from swifter) (4.66.4)\n",
            "Requirement already satisfied: click>=8.0 in /usr/local/lib/python3.10/dist-packages (from dask[dataframe]>=2.10.0->swifter) (8.1.7)\n",
            "Requirement already satisfied: cloudpickle>=1.5.0 in /usr/local/lib/python3.10/dist-packages (from dask[dataframe]>=2.10.0->swifter) (2.2.1)\n",
            "Requirement already satisfied: fsspec>=2021.09.0 in /usr/local/lib/python3.10/dist-packages (from dask[dataframe]>=2.10.0->swifter) (2023.6.0)\n",
            "Requirement already satisfied: packaging>=20.0 in /usr/local/lib/python3.10/dist-packages (from dask[dataframe]>=2.10.0->swifter) (24.0)\n",
            "Requirement already satisfied: partd>=1.2.0 in /usr/local/lib/python3.10/dist-packages (from dask[dataframe]>=2.10.0->swifter) (1.4.2)\n",
            "Requirement already satisfied: pyyaml>=5.3.1 in /usr/local/lib/python3.10/dist-packages (from dask[dataframe]>=2.10.0->swifter) (6.0.1)\n",
            "Requirement already satisfied: toolz>=0.10.0 in /usr/local/lib/python3.10/dist-packages (from dask[dataframe]>=2.10.0->swifter) (0.12.1)\n",
            "Requirement already satisfied: importlib-metadata>=4.13.0 in /usr/local/lib/python3.10/dist-packages (from dask[dataframe]>=2.10.0->swifter) (7.1.0)\n",
            "Requirement already satisfied: python-dateutil>=2.8.2 in /usr/local/lib/python3.10/dist-packages (from pandas>=1.0.0->swifter) (2.8.2)\n",
            "Requirement already satisfied: pytz>=2020.1 in /usr/local/lib/python3.10/dist-packages (from pandas>=1.0.0->swifter) (2023.4)\n",
            "Requirement already satisfied: tzdata>=2022.1 in /usr/local/lib/python3.10/dist-packages (from pandas>=1.0.0->swifter) (2024.1)\n",
            "Requirement already satisfied: numpy>=1.21.0 in /usr/local/lib/python3.10/dist-packages (from pandas>=1.0.0->swifter) (1.25.2)\n",
            "Requirement already satisfied: zipp>=0.5 in /usr/local/lib/python3.10/dist-packages (from importlib-metadata>=4.13.0->dask[dataframe]>=2.10.0->swifter) (3.18.1)\n",
            "Requirement already satisfied: locket in /usr/local/lib/python3.10/dist-packages (from partd>=1.2.0->dask[dataframe]>=2.10.0->swifter) (1.0.0)\n",
            "Requirement already satisfied: six>=1.5 in /usr/local/lib/python3.10/dist-packages (from python-dateutil>=2.8.2->pandas>=1.0.0->swifter) (1.16.0)\n",
            "Building wheels for collected packages: swifter\n",
            "  Building wheel for swifter (setup.py) ... \u001b[?25l\u001b[?25hdone\n",
            "  Created wheel for swifter: filename=swifter-1.4.0-py3-none-any.whl size=16507 sha256=61567776bc51c02e92a00be621e36ea52c4ba6e5cae1ffeb9f3ee38dbfdb620b\n",
            "  Stored in directory: /root/.cache/pip/wheels/e4/cf/51/0904952972ee2c7aa3709437065278dc534ec1b8d2ad41b443\n",
            "Successfully built swifter\n",
            "Installing collected packages: swifter\n",
            "Successfully installed swifter-1.4.0\n"
          ]
        }
      ],
      "source": [
        "!pip install swifter"
      ]
    },
    {
      "cell_type": "code",
      "execution_count": null,
      "metadata": {
        "colab": {
          "base_uri": "https://localhost:8080/"
        },
        "id": "6JuYv-dZfIvh",
        "outputId": "b58d45dc-26f2-4430-a3f9-e80479399d98"
      },
      "outputs": [
        {
          "name": "stdout",
          "output_type": "stream",
          "text": [
            "Requirement already satisfied: wordcloud in /usr/local/lib/python3.10/dist-packages (1.9.3)\n",
            "Requirement already satisfied: numpy>=1.6.1 in /usr/local/lib/python3.10/dist-packages (from wordcloud) (1.25.2)\n",
            "Requirement already satisfied: pillow in /usr/local/lib/python3.10/dist-packages (from wordcloud) (9.4.0)\n",
            "Requirement already satisfied: matplotlib in /usr/local/lib/python3.10/dist-packages (from wordcloud) (3.7.1)\n",
            "Requirement already satisfied: contourpy>=1.0.1 in /usr/local/lib/python3.10/dist-packages (from matplotlib->wordcloud) (1.2.1)\n",
            "Requirement already satisfied: cycler>=0.10 in /usr/local/lib/python3.10/dist-packages (from matplotlib->wordcloud) (0.12.1)\n",
            "Requirement already satisfied: fonttools>=4.22.0 in /usr/local/lib/python3.10/dist-packages (from matplotlib->wordcloud) (4.51.0)\n",
            "Requirement already satisfied: kiwisolver>=1.0.1 in /usr/local/lib/python3.10/dist-packages (from matplotlib->wordcloud) (1.4.5)\n",
            "Requirement already satisfied: packaging>=20.0 in /usr/local/lib/python3.10/dist-packages (from matplotlib->wordcloud) (24.0)\n",
            "Requirement already satisfied: pyparsing>=2.3.1 in /usr/local/lib/python3.10/dist-packages (from matplotlib->wordcloud) (3.1.2)\n",
            "Requirement already satisfied: python-dateutil>=2.7 in /usr/local/lib/python3.10/dist-packages (from matplotlib->wordcloud) (2.8.2)\n",
            "Requirement already satisfied: six>=1.5 in /usr/local/lib/python3.10/dist-packages (from python-dateutil>=2.7->matplotlib->wordcloud) (1.16.0)\n"
          ]
        }
      ],
      "source": [
        "!pip install wordcloud"
      ]
    },
    {
      "cell_type": "markdown",
      "metadata": {
        "id": "KJHjs2LI03FJ"
      },
      "source": [
        "**LIBRARY YANG DIGUNAKAN**"
      ]
    },
    {
      "cell_type": "code",
      "execution_count": null,
      "metadata": {
        "colab": {
          "base_uri": "https://localhost:8080/"
        },
        "id": "7gzbX6S6fY_V",
        "outputId": "6b040c41-e169-46d5-b33a-7d6b58859b05"
      },
      "outputs": [
        {
          "name": "stderr",
          "output_type": "stream",
          "text": [
            "[nltk_data] Downloading package punkt to /root/nltk_data...\n",
            "[nltk_data]   Unzipping tokenizers/punkt.zip.\n",
            "[nltk_data] Downloading package stopwords to /root/nltk_data...\n",
            "[nltk_data]   Unzipping corpora/stopwords.zip.\n"
          ]
        },
        {
          "data": {
            "text/plain": [
              "True"
            ]
          },
          "execution_count": 4,
          "metadata": {},
          "output_type": "execute_result"
        }
      ],
      "source": [
        "import pandas as pd\n",
        "import numpy as np\n",
        "import matplotlib.pyplot as plt\n",
        "import re\n",
        "import nltk\n",
        "import string\n",
        "import gensim\n",
        "import pickle\n",
        "from pathlib import Path\n",
        "from Sastrawi.Stemmer.StemmerFactory import StemmerFactory\n",
        "from nltk.tokenize import word_tokenize\n",
        "from nltk.corpus import stopwords\n",
        "from wordcloud import WordCloud\n",
        "from sklearn.feature_extraction.text import TfidfVectorizer, CountVectorizer\n",
        "from sklearn.model_selection import train_test_split\n",
        "from sklearn.model_selection import GridSearchCV, StratifiedKFold\n",
        "from sklearn.svm import SVC\n",
        "from sklearn.metrics import accuracy_score\n",
        "from sklearn.metrics import classification_report\n",
        "from sklearn.model_selection import cross_val_score\n",
        "from sklearn.preprocessing import StandardScaler\n",
        "\n",
        "nltk.download('punkt')\n",
        "nltk.download('stopwords')"
      ]
    },
    {
      "cell_type": "markdown",
      "metadata": {
        "id": "-7wSYlDL07Fp"
      },
      "source": [
        "**LIHAT DATA**"
      ]
    },
    {
      "cell_type": "code",
      "execution_count": null,
      "metadata": {
        "colab": {
          "base_uri": "https://localhost:8080/",
          "height": 472
        },
        "id": "iq-t00vufJ9p",
        "outputId": "6ff4cfb7-6240-4b2c-8896-528248f47750"
      },
      "outputs": [
        {
          "data": {
            "image/png": "[encoded data removed]",
            "text/plain": [
              "<Figure size 640x480 with 1 Axes>"
            ]
          },
          "metadata": {},
          "output_type": "display_data"
        }
      ],
      "source": [
        "ulasan = pd.read_csv('bagi_sama_pinterest.csv')\n",
        "\n",
        "positive_count = ulasan[ulasan['label'] == 'Positif'].shape[0]\n",
        "negative_count = ulasan[ulasan['label'] == 'Negatif'].shape[0]\n",
        "\n",
        "labels = ['Positif', 'Negatif']\n",
        "counts = [positive_count, negative_count]\n",
        "\n",
        "plt.bar(labels, counts, color=['green', 'red'])\n",
        "plt.xlabel('Sentiment')\n",
        "plt.ylabel('Count')\n",
        "plt.title('Sentiment Distribution')\n",
        "plt.show()"
      ]
    },
    {
      "cell_type": "markdown",
      "metadata": {
        "id": "vUwT9OlP09gq"
      },
      "source": [
        "**CEK NULL**"
      ]
    },
    {
      "cell_type": "code",
      "execution_count": null,
      "metadata": {
        "colab": {
          "base_uri": "https://localhost:8080/"
        },
        "id": "30G6LhzagFS3",
        "outputId": "edc7e698-ca86-4a44-d0bf-f4b154d4d2bf"
      },
      "outputs": [
        {
          "data": {
            "text/plain": [
              "dated     0\n",
              "rating    0\n",
              "label     0\n",
              "review    0\n",
              "dtype: int64"
            ]
          },
          "execution_count": 6,
          "metadata": {},
          "output_type": "execute_result"
        }
      ],
      "source": [
        "ulasan.isnull().sum()"
      ]
    },
    {
      "cell_type": "markdown",
      "metadata": {
        "id": "edjnHivq0_Z1"
      },
      "source": [
        "**CLEANING DATA**"
      ]
    },
    {
      "cell_type": "code",
      "execution_count": null,
      "metadata": {
        "colab": {
          "base_uri": "https://localhost:8080/",
          "height": 597
        },
        "id": "ffRDCwE6gMBk",
        "outputId": "8702c83f-bb6c-448e-8e00-c7bac82ac421"
      },
      "outputs": [
        {
          "data": {
            "application/vnd.google.colaboratory.intrinsic+json": {
              "summary": "{\n  \"name\": \"ulasan\",\n  \"rows\": 784,\n  \"fields\": [\n    {\n      \"column\": \"dated\",\n      \"properties\": {\n        \"dtype\": \"object\",\n        \"num_unique_values\": 784,\n        \"samples\": [\n          \"2023-12-10 16:24:41\",\n          \"2023-12-13 22:04:40\",\n          \"2024-03-03 10:00:38\"\n        ],\n        \"semantic_type\": \"\",\n        \"description\": \"\"\n      }\n    },\n    {\n      \"column\": \"rating\",\n      \"properties\": {\n        \"dtype\": \"number\",\n        \"std\": 1,\n        \"min\": 1,\n        \"max\": 5,\n        \"num_unique_values\": 4,\n        \"samples\": [\n          2,\n          5,\n          1\n        ],\n        \"semantic_type\": \"\",\n        \"description\": \"\"\n      }\n    },\n    {\n      \"column\": \"label\",\n      \"properties\": {\n        \"dtype\": \"category\",\n        \"num_unique_values\": 2,\n        \"samples\": [\n          \"Positif\",\n          \"Negatif\"\n        ],\n        \"semantic_type\": \"\",\n        \"description\": \"\"\n      }\n    },\n    {\n      \"column\": \"review\",\n      \"properties\": {\n        \"dtype\": \"string\",\n        \"num_unique_values\": 783,\n        \"samples\": [\n          \"Aku suka sama apk nya cuman satu ada kurang nya mangkanya aku kasih bintang 4 dia bermasalah padahal wifi ku gak kenapa napa apk ku yang lain juga gak papa terus foto nya gak bisa di unduh padahal biasanya bisa\",\n          \"Ini aplikasi baru download langsung disuruh bikin akun, pas giliran umur gw ditanya dengan jujur, lah kok gk bisa, tolong kedepannya lebih baik lagi ini aplikasi.\"\n        ],\n        \"semantic_type\": \"\",\n        \"description\": \"\"\n      }\n    },\n    {\n      \"column\": \"cleaning\",\n      \"properties\": {\n        \"dtype\": \"string\",\n        \"num_unique_values\": 783,\n        \"samples\": [\n          \"Aku suka sama apk nya cuman satu ada kurang nya mangkanya aku kasih bintang   dia bermasalah padahal wifi ku gak kenapa napa apk ku yang lain juga gak papa terus foto nya gak bisa di unduh padahal biasanya bisa\",\n          \"Ini aplikasi baru download langsung disuruh bikin akun  pas giliran umur gw ditanya dengan jujur  lah kok gk bisa  tolong kedepannya lebih baik lagi ini aplikasi\"\n        ],\n        \"semantic_type\": \"\",\n        \"description\": \"\"\n      }\n    },\n    {\n      \"column\": \"hapusEmoji\",\n      \"properties\": {\n        \"dtype\": \"string\",\n        \"num_unique_values\": 783,\n        \"samples\": [\n          \"Aku suka sama apk nya cuman satu ada kurang nya mangkanya aku kasih bintang   dia bermasalah padahal wifi ku gak kenapa napa apk ku yang lain juga gak papa terus foto nya gak bisa di unduh padahal biasanya bisa\",\n          \"Ini aplikasi baru download langsung disuruh bikin akun  pas giliran umur gw ditanya dengan jujur  lah kok gk bisa  tolong kedepannya lebih baik lagi ini aplikasi\"\n        ],\n        \"semantic_type\": \"\",\n        \"description\": \"\"\n      }\n    },\n    {\n      \"column\": \"double\",\n      \"properties\": {\n        \"dtype\": \"string\",\n        \"num_unique_values\": 780,\n        \"samples\": [\n          \"Kenapa saya kasi bintang Karena aplikasi ini udh bagus Kita bisa cari foto ulzang dll Bisa juga buat kasi soal Bisa kita cari soalnya Dan bisa cari ulzang cowo cewe Dan bisa coupelan PP sama teman atau dll Debess banget deh Tapi pengen banget ga pake wifi Kouta Masalahnya kalo lagi pergi pergi ga ad kauta atau Wifi Bisa kita cari dengan Secara offline Tapi gpp deh ini aja udh bagus Ywdh dari saya terimakasih\",\n          \"Scroll ke bawah mlh macet  pdh jaringan bagus  suka refresh sendiri  gambar blur separuh\"\n        ],\n        \"semantic_type\": \"\",\n        \"description\": \"\"\n      }\n    }\n  ]\n}",
              "type": "dataframe",
              "variable_name": "ulasan"
            },
            "text/html": [
              "\n",
              "  <div id=\"df-e2d178fb-7de1-4742-a53b-766fb0409d3d\" class=\"colab-df-container\">\n",
              "    <div>\n",
              "<style scoped>\n",
              "    .dataframe tbody tr th:only-of-type {\n",
              "        vertical-align: middle;\n",
              "    }\n",
              "\n",
              "    .dataframe tbody tr th {\n",
              "        vertical-align: top;\n",
              "    }\n",
              "\n",
              "    .dataframe thead th {\n",
              "        text-align: right;\n",
              "    }\n",
              "</style>\n",
              "<table border=\"1\" class=\"dataframe\">\n",
              "  <thead>\n",
              "    <tr style=\"text-align: right;\">\n",
              "      <th></th>\n",
              "      <th>dated</th>\n",
              "      <th>rating</th>\n",
              "      <th>label</th>\n",
              "      <th>review</th>\n",
              "      <th>cleaning</th>\n",
              "      <th>hapusEmoji</th>\n",
              "      <th>double</th>\n",
              "    </tr>\n",
              "  </thead>\n",
              "  <tbody>\n",
              "    <tr>\n",
              "      <th>0</th>\n",
              "      <td>2024-04-28 11:34:44</td>\n",
              "      <td>1</td>\n",
              "      <td>Negatif</td>\n",
              "      <td>ini apk lama' aneh, udh jelas' jaringan nya KU...</td>\n",
              "      <td>ini apk lama  aneh  udh jelas  jaringan nya KU...</td>\n",
              "      <td>ini apk lama  aneh  udh jelas  jaringan nya KU...</td>\n",
              "      <td>ini apk lama  aneh  udh jelas  jaringan nya KU...</td>\n",
              "    </tr>\n",
              "    <tr>\n",
              "      <th>1</th>\n",
              "      <td>2024-04-27 07:04:30</td>\n",
              "      <td>1</td>\n",
              "      <td>Negatif</td>\n",
              "      <td>Pas masukin tanggal lahir kok gak bisa\" bahkan...</td>\n",
              "      <td>Pas masukin tanggal lahir kok gak bisa  bahkan...</td>\n",
              "      <td>Pas masukin tanggal lahir kok gak bisa  bahkan...</td>\n",
              "      <td>Pas masukin tanggal lahir kok gak bisa  bahkan...</td>\n",
              "    </tr>\n",
              "    <tr>\n",
              "      <th>2</th>\n",
              "      <td>2024-04-27 02:13:40</td>\n",
              "      <td>2</td>\n",
              "      <td>Negatif</td>\n",
              "      <td>Aplikasi ini membuat sy tidak nyaman ,masa fot...</td>\n",
              "      <td>Aplikasi ini membuat sy tidak nyaman  masa fot...</td>\n",
              "      <td>Aplikasi ini membuat sy tidak nyaman  masa fot...</td>\n",
              "      <td>Aplikasi ini membuat sy tidak nyaman  masa fot...</td>\n",
              "    </tr>\n",
              "    <tr>\n",
              "      <th>3</th>\n",
              "      <td>2024-04-27 01:46:58</td>\n",
              "      <td>1</td>\n",
              "      <td>Negatif</td>\n",
              "      <td>Banyak gambar yg tidak bisa diunduh, setelah s...</td>\n",
              "      <td>Banyak gambar yg tidak bisa diunduh  setelah s...</td>\n",
              "      <td>Banyak gambar yg tidak bisa diunduh  setelah s...</td>\n",
              "      <td>Banyak gambar yg tidak bisa diunduh  setelah s...</td>\n",
              "    </tr>\n",
              "    <tr>\n",
              "      <th>4</th>\n",
              "      <td>2024-04-27 01:12:03</td>\n",
              "      <td>1</td>\n",
              "      <td>Negatif</td>\n",
              "      <td>Kntl gak bisa udah bener tanggal lahir nya mal...</td>\n",
              "      <td>Kntl gak bisa udah bener tanggal lahir nya mal...</td>\n",
              "      <td>Kntl gak bisa udah bener tanggal lahir nya mal...</td>\n",
              "      <td>Kntl gak bisa udah bener tanggal lahir nya mal...</td>\n",
              "    </tr>\n",
              "    <tr>\n",
              "      <th>...</th>\n",
              "      <td>...</td>\n",
              "      <td>...</td>\n",
              "      <td>...</td>\n",
              "      <td>...</td>\n",
              "      <td>...</td>\n",
              "      <td>...</td>\n",
              "      <td>...</td>\n",
              "    </tr>\n",
              "    <tr>\n",
              "      <th>779</th>\n",
              "      <td>2019-02-13 01:33:21</td>\n",
              "      <td>5</td>\n",
              "      <td>Positif</td>\n",
              "      <td>sebenarnya baik .. cuman untuk pembaruan kali ...</td>\n",
              "      <td>sebenarnya baik    cuman untuk pembaruan kali ...</td>\n",
              "      <td>sebenarnya baik    cuman untuk pembaruan kali ...</td>\n",
              "      <td>sebenarnya baik cuman untuk pembaruan kali ini...</td>\n",
              "    </tr>\n",
              "    <tr>\n",
              "      <th>780</th>\n",
              "      <td>2019-02-12 17:27:39</td>\n",
              "      <td>1</td>\n",
              "      <td>Negatif</td>\n",
              "      <td>untuk versi ini kenapa gambar tidak bisa di do...</td>\n",
              "      <td>untuk versi ini kenapa gambar tidak bisa di do...</td>\n",
              "      <td>untuk versi ini kenapa gambar tidak bisa di do...</td>\n",
              "      <td>untuk versi ini kenapa gambar tidak bisa di do...</td>\n",
              "    </tr>\n",
              "    <tr>\n",
              "      <th>781</th>\n",
              "      <td>2019-02-12 10:57:13</td>\n",
              "      <td>5</td>\n",
              "      <td>Positif</td>\n",
              "      <td>buat yang abis di update trus nggak bisa kesim...</td>\n",
              "      <td>buat yang abis di update trus nggak bisa kesim...</td>\n",
              "      <td>buat yang abis di update trus nggak bisa kesim...</td>\n",
              "      <td>buat yang abis di update trus nggak bisa kesim...</td>\n",
              "    </tr>\n",
              "    <tr>\n",
              "      <th>782</th>\n",
              "      <td>2018-11-03 06:37:15</td>\n",
              "      <td>5</td>\n",
              "      <td>Positif</td>\n",
              "      <td>Aku suka banget pake pinterest, kalau mau nyar...</td>\n",
              "      <td>Aku suka banget pake pinterest  kalau mau nyar...</td>\n",
              "      <td>Aku suka banget pake pinterest  kalau mau nyar...</td>\n",
              "      <td>Aku suka banget pake pinterest  kalau mau nyar...</td>\n",
              "    </tr>\n",
              "    <tr>\n",
              "      <th>783</th>\n",
              "      <td>2018-09-22 23:31:53</td>\n",
              "      <td>5</td>\n",
              "      <td>Positif</td>\n",
              "      <td>THE BEST LAH, tapi saran aja, buatin tombol do...</td>\n",
              "      <td>THE BEST LAH  tapi saran aja  buatin tombol do...</td>\n",
              "      <td>THE BEST LAH  tapi saran aja  buatin tombol do...</td>\n",
              "      <td>THE BEST LAH  tapi saran aja  buatin tombol do...</td>\n",
              "    </tr>\n",
              "  </tbody>\n",
              "</table>\n",
              "<p>784 rows × 7 columns</p>\n",
              "</div>\n",
              "    <div class=\"colab-df-buttons\">\n",
              "\n",
              "  <div class=\"colab-df-container\">\n",
              "    <button class=\"colab-df-convert\" onclick=\"convertToInteractive('df-e2d178fb-7de1-4742-a53b-766fb0409d3d')\"\n",
              "            title=\"Convert this dataframe to an interactive table.\"\n",
              "            style=\"display:none;\">\n",
              "\n",
              "  <svg xmlns=\"http://www.w3.org/2000/svg\" height=\"24px\" viewBox=\"0 -960 960 960\">\n",
              "    <path d=\"M120-120v-720h720v720H120Zm60-500h600v-160H180v160Zm220 220h160v-160H400v160Zm0 220h160v-160H400v160ZM180-400h160v-160H180v160Zm440 0h160v-160H620v160ZM180-180h160v-160H180v160Zm440 0h160v-160H620v160Z\"/>\n",
              "  </svg>\n",
              "    </button>\n",
              "\n",
              "  <style>\n",
              "    .colab-df-container {\n",
              "      display:flex;\n",
              "      gap: 12px;\n",
              "    }\n",
              "\n",
              "    .colab-df-convert {\n",
              "      background-color: #E8F0FE;\n",
              "      border: none;\n",
              "      border-radius: 50%;\n",
              "      cursor: pointer;\n",
              "      display: none;\n",
              "      fill: #1967D2;\n",
              "      height: 32px;\n",
              "      padding: 0 0 0 0;\n",
              "      width: 32px;\n",
              "    }\n",
              "\n",
              "    .colab-df-convert:hover {\n",
              "      background-color: #E2EBFA;\n",
              "      box-shadow: 0px 1px 2px rgba(60, 64, 67, 0.3), 0px 1px 3px 1px rgba(60, 64, 67, 0.15);\n",
              "      fill: #174EA6;\n",
              "    }\n",
              "\n",
              "    .colab-df-buttons div {\n",
              "      margin-bottom: 4px;\n",
              "    }\n",
              "\n",
              "    [theme=dark] .colab-df-convert {\n",
              "      background-color: #3B4455;\n",
              "      fill: #D2E3FC;\n",
              "    }\n",
              "\n",
              "    [theme=dark] .colab-df-convert:hover {\n",
              "      background-color: #434B5C;\n",
              "      box-shadow: 0px 1px 3px 1px rgba(0, 0, 0, 0.15);\n",
              "      filter: drop-shadow(0px 1px 2px rgba(0, 0, 0, 0.3));\n",
              "      fill: #FFFFFF;\n",
              "    }\n",
              "  </style>\n",
              "\n",
              "    <script>\n",
              "      const buttonEl =\n",
              "        document.querySelector('#df-e2d178fb-7de1-4742-a53b-766fb0409d3d button.colab-df-convert');\n",
              "      buttonEl.style.display =\n",
              "        google.colab.kernel.accessAllowed ? 'block' : 'none';\n",
              "\n",
              "      async function convertToInteractive(key) {\n",
              "        const element = document.querySelector('#df-e2d178fb-7de1-4742-a53b-766fb0409d3d');\n",
              "        const dataTable =\n",
              "          await google.colab.kernel.invokeFunction('convertToInteractive',\n",
              "                                                    [key], {});\n",
              "        if (!dataTable) return;\n",
              "\n",
              "        const docLinkHtml = 'Like what you see? Visit the ' +\n",
              "          '<a target=\"_blank\" href=https://colab.research.google.com/notebooks/data_table.ipynb>data table notebook</a>'\n",
              "          + ' to learn more about interactive tables.';\n",
              "        element.innerHTML = '';\n",
              "        dataTable['output_type'] = 'display_data';\n",
              "        await google.colab.output.renderOutput(dataTable, element);\n",
              "        const docLink = document.createElement('div');\n",
              "        docLink.innerHTML = docLinkHtml;\n",
              "        element.appendChild(docLink);\n",
              "      }\n",
              "    </script>\n",
              "  </div>\n",
              "\n",
              "\n",
              "<div id=\"df-7370ceda-b75b-4fe9-b94e-4276e9c32c3d\">\n",
              "  <button class=\"colab-df-quickchart\" onclick=\"quickchart('df-7370ceda-b75b-4fe9-b94e-4276e9c32c3d')\"\n",
              "            title=\"Suggest charts\"\n",
              "            style=\"display:none;\">\n",
              "\n",
              "<svg xmlns=\"http://www.w3.org/2000/svg\" height=\"24px\"viewBox=\"0 0 24 24\"\n",
              "     width=\"24px\">\n",
              "    <g>\n",
              "        <path d=\"M19 3H5c-1.1 0-2 .9-2 2v14c0 1.1.9 2 2 2h14c1.1 0 2-.9 2-2V5c0-1.1-.9-2-2-2zM9 17H7v-7h2v7zm4 0h-2V7h2v10zm4 0h-2v-4h2v4z\"/>\n",
              "    </g>\n",
              "</svg>\n",
              "  </button>\n",
              "\n",
              "<style>\n",
              "  .colab-df-quickchart {\n",
              "      --bg-color: #E8F0FE;\n",
              "      --fill-color: #1967D2;\n",
              "      --hover-bg-color: #E2EBFA;\n",
              "      --hover-fill-color: #174EA6;\n",
              "      --disabled-fill-color: #AAA;\n",
              "      --disabled-bg-color: #DDD;\n",
              "  }\n",
              "\n",
              "  [theme=dark] .colab-df-quickchart {\n",
              "      --bg-color: #3B4455;\n",
              "      --fill-color: #D2E3FC;\n",
              "      --hover-bg-color: #434B5C;\n",
              "      --hover-fill-color: #FFFFFF;\n",
              "      --disabled-bg-color: #3B4455;\n",
              "      --disabled-fill-color: #666;\n",
              "  }\n",
              "\n",
              "  .colab-df-quickchart {\n",
              "    background-color: var(--bg-color);\n",
              "    border: none;\n",
              "    border-radius: 50%;\n",
              "    cursor: pointer;\n",
              "    display: none;\n",
              "    fill: var(--fill-color);\n",
              "    height: 32px;\n",
              "    padding: 0;\n",
              "    width: 32px;\n",
              "  }\n",
              "\n",
              "  .colab-df-quickchart:hover {\n",
              "    background-color: var(--hover-bg-color);\n",
              "    box-shadow: 0 1px 2px rgba(60, 64, 67, 0.3), 0 1px 3px 1px rgba(60, 64, 67, 0.15);\n",
              "    fill: var(--button-hover-fill-color);\n",
              "  }\n",
              "\n",
              "  .colab-df-quickchart-complete:disabled,\n",
              "  .colab-df-quickchart-complete:disabled:hover {\n",
              "    background-color: var(--disabled-bg-color);\n",
              "    fill: var(--disabled-fill-color);\n",
              "    box-shadow: none;\n",
              "  }\n",
              "\n",
              "  .colab-df-spinner {\n",
              "    border: 2px solid var(--fill-color);\n",
              "    border-color: transparent;\n",
              "    border-bottom-color: var(--fill-color);\n",
              "    animation:\n",
              "      spin 1s steps(1) infinite;\n",
              "  }\n",
              "\n",
              "  @keyframes spin {\n",
              "    0% {\n",
              "      border-color: transparent;\n",
              "      border-bottom-color: var(--fill-color);\n",
              "      border-left-color: var(--fill-color);\n",
              "    }\n",
              "    20% {\n",
              "      border-color: transparent;\n",
              "      border-left-color: var(--fill-color);\n",
              "      border-top-color: var(--fill-color);\n",
              "    }\n",
              "    30% {\n",
              "      border-color: transparent;\n",
              "      border-left-color: var(--fill-color);\n",
              "      border-top-color: var(--fill-color);\n",
              "      border-right-color: var(--fill-color);\n",
              "    }\n",
              "    40% {\n",
              "      border-color: transparent;\n",
              "      border-right-color: var(--fill-color);\n",
              "      border-top-color: var(--fill-color);\n",
              "    }\n",
              "    60% {\n",
              "      border-color: transparent;\n",
              "      border-right-color: var(--fill-color);\n",
              "    }\n",
              "    80% {\n",
              "      border-color: transparent;\n",
              "      border-right-color: var(--fill-color);\n",
              "      border-bottom-color: var(--fill-color);\n",
              "    }\n",
              "    90% {\n",
              "      border-color: transparent;\n",
              "      border-bottom-color: var(--fill-color);\n",
              "    }\n",
              "  }\n",
              "</style>\n",
              "\n",
              "  <script>\n",
              "    async function quickchart(key) {\n",
              "      const quickchartButtonEl =\n",
              "        document.querySelector('#' + key + ' button');\n",
              "      quickchartButtonEl.disabled = true;  // To prevent multiple clicks.\n",
              "      quickchartButtonEl.classList.add('colab-df-spinner');\n",
              "      try {\n",
              "        const charts = await google.colab.kernel.invokeFunction(\n",
              "            'suggestCharts', [key], {});\n",
              "      } catch (error) {\n",
              "        console.error('Error during call to suggestCharts:', error);\n",
              "      }\n",
              "      quickchartButtonEl.classList.remove('colab-df-spinner');\n",
              "      quickchartButtonEl.classList.add('colab-df-quickchart-complete');\n",
              "    }\n",
              "    (() => {\n",
              "      let quickchartButtonEl =\n",
              "        document.querySelector('#df-7370ceda-b75b-4fe9-b94e-4276e9c32c3d button');\n",
              "      quickchartButtonEl.style.display =\n",
              "        google.colab.kernel.accessAllowed ? 'block' : 'none';\n",
              "    })();\n",
              "  </script>\n",
              "</div>\n",
              "    </div>\n",
              "  </div>\n"
            ],
            "text/plain": [
              "                   dated  rating    label  \\\n",
              "0    2024-04-28 11:34:44       1  Negatif   \n",
              "1    2024-04-27 07:04:30       1  Negatif   \n",
              "2    2024-04-27 02:13:40       2  Negatif   \n",
              "3    2024-04-27 01:46:58       1  Negatif   \n",
              "4    2024-04-27 01:12:03       1  Negatif   \n",
              "..                   ...     ...      ...   \n",
              "779  2019-02-13 01:33:21       5  Positif   \n",
              "780  2019-02-12 17:27:39       1  Negatif   \n",
              "781  2019-02-12 10:57:13       5  Positif   \n",
              "782  2018-11-03 06:37:15       5  Positif   \n",
              "783  2018-09-22 23:31:53       5  Positif   \n",
              "\n",
              "                                                review  \\\n",
              "0    ini apk lama' aneh, udh jelas' jaringan nya KU...   \n",
              "1    Pas masukin tanggal lahir kok gak bisa\" bahkan...   \n",
              "2    Aplikasi ini membuat sy tidak nyaman ,masa fot...   \n",
              "3    Banyak gambar yg tidak bisa diunduh, setelah s...   \n",
              "4    Kntl gak bisa udah bener tanggal lahir nya mal...   \n",
              "..                                                 ...   \n",
              "779  sebenarnya baik .. cuman untuk pembaruan kali ...   \n",
              "780  untuk versi ini kenapa gambar tidak bisa di do...   \n",
              "781  buat yang abis di update trus nggak bisa kesim...   \n",
              "782  Aku suka banget pake pinterest, kalau mau nyar...   \n",
              "783  THE BEST LAH, tapi saran aja, buatin tombol do...   \n",
              "\n",
              "                                              cleaning  \\\n",
              "0    ini apk lama  aneh  udh jelas  jaringan nya KU...   \n",
              "1    Pas masukin tanggal lahir kok gak bisa  bahkan...   \n",
              "2    Aplikasi ini membuat sy tidak nyaman  masa fot...   \n",
              "3    Banyak gambar yg tidak bisa diunduh  setelah s...   \n",
              "4    Kntl gak bisa udah bener tanggal lahir nya mal...   \n",
              "..                                                 ...   \n",
              "779  sebenarnya baik    cuman untuk pembaruan kali ...   \n",
              "780  untuk versi ini kenapa gambar tidak bisa di do...   \n",
              "781  buat yang abis di update trus nggak bisa kesim...   \n",
              "782  Aku suka banget pake pinterest  kalau mau nyar...   \n",
              "783  THE BEST LAH  tapi saran aja  buatin tombol do...   \n",
              "\n",
              "                                            hapusEmoji  \\\n",
              "0    ini apk lama  aneh  udh jelas  jaringan nya KU...   \n",
              "1    Pas masukin tanggal lahir kok gak bisa  bahkan...   \n",
              "2    Aplikasi ini membuat sy tidak nyaman  masa fot...   \n",
              "3    Banyak gambar yg tidak bisa diunduh  setelah s...   \n",
              "4    Kntl gak bisa udah bener tanggal lahir nya mal...   \n",
              "..                                                 ...   \n",
              "779  sebenarnya baik    cuman untuk pembaruan kali ...   \n",
              "780  untuk versi ini kenapa gambar tidak bisa di do...   \n",
              "781  buat yang abis di update trus nggak bisa kesim...   \n",
              "782  Aku suka banget pake pinterest  kalau mau nyar...   \n",
              "783  THE BEST LAH  tapi saran aja  buatin tombol do...   \n",
              "\n",
              "                                                double  \n",
              "0    ini apk lama  aneh  udh jelas  jaringan nya KU...  \n",
              "1    Pas masukin tanggal lahir kok gak bisa  bahkan...  \n",
              "2    Aplikasi ini membuat sy tidak nyaman  masa fot...  \n",
              "3    Banyak gambar yg tidak bisa diunduh  setelah s...  \n",
              "4    Kntl gak bisa udah bener tanggal lahir nya mal...  \n",
              "..                                                 ...  \n",
              "779  sebenarnya baik cuman untuk pembaruan kali ini...  \n",
              "780  untuk versi ini kenapa gambar tidak bisa di do...  \n",
              "781  buat yang abis di update trus nggak bisa kesim...  \n",
              "782  Aku suka banget pake pinterest  kalau mau nyar...  \n",
              "783  THE BEST LAH  tapi saran aja  buatin tombol do...  \n",
              "\n",
              "[784 rows x 7 columns]"
            ]
          },
          "execution_count": 7,
          "metadata": {},
          "output_type": "execute_result"
        }
      ],
      "source": [
        "def cleaning_ulasan(ulasan):\n",
        "    ulasan = re.sub(r'@[A-Za-a0-9]+', ' ', ulasan)\n",
        "    ulasan = re.sub(r'#[A-Za-z0-9]+', ' ', ulasan)\n",
        "    ulasan = re.sub(r\"http\\S+\", ' ', ulasan)\n",
        "    ulasan = re.sub(r'[0-9]+', ' ', ulasan)\n",
        "    ulasan = re.sub(r\"[-()\\\"#/@;:<>{}'+=~|.!?,_]\", \" \", ulasan)\n",
        "    ulasan = ulasan.strip(' ')\n",
        "    return ulasan\n",
        "ulasan['cleaning'] = ulasan['review'].apply(cleaning_ulasan)\n",
        "\n",
        "def clear_emoji(ulasan):\n",
        "    return ulasan.encode('ascii', 'ignore').decode('ascii')\n",
        "ulasan['hapusEmoji'] = ulasan['cleaning'].apply(clear_emoji)\n",
        "\n",
        "def double(ulasan):\n",
        "    pattern = re.compile(r'(.)\\1{2,}', re.DOTALL)\n",
        "    return pattern.sub(r'\\1', ulasan)\n",
        "ulasan['double'] = ulasan['hapusEmoji'].apply(double)\n",
        "ulasan"
      ]
    },
    {
      "cell_type": "markdown",
      "metadata": {
        "id": "VfkG-8pz1CW-"
      },
      "source": [
        "**CASEFOLDING**"
      ]
    },
    {
      "cell_type": "code",
      "execution_count": null,
      "metadata": {
        "colab": {
          "base_uri": "https://localhost:8080/"
        },
        "id": "LIWmgKfcgdSU",
        "outputId": "cafe1aed-ef95-456f-c06a-40e56cf59cc7"
      },
      "outputs": [
        {
          "data": {
            "text/plain": [
              "0      ini apk lama  aneh  udh jelas  jaringan nya ku...\n",
              "1      pas masukin tanggal lahir kok gak bisa  bahkan...\n",
              "2      aplikasi ini membuat sy tidak nyaman  masa fot...\n",
              "3      banyak gambar yg tidak bisa diunduh  setelah s...\n",
              "4      kntl gak bisa udah bener tanggal lahir nya mal...\n",
              "                             ...                        \n",
              "779    sebenarnya baik cuman untuk pembaruan kali ini...\n",
              "780    untuk versi ini kenapa gambar tidak bisa di do...\n",
              "781    buat yang abis di update trus nggak bisa kesim...\n",
              "782    aku suka banget pake pinterest  kalau mau nyar...\n",
              "783    the best lah  tapi saran aja  buatin tombol do...\n",
              "Name: caseFolding, Length: 784, dtype: object"
            ]
          },
          "execution_count": 8,
          "metadata": {},
          "output_type": "execute_result"
        }
      ],
      "source": [
        "def case_folding_text(ulasan):\n",
        "    return ulasan.lower()\n",
        "ulasan['caseFolding'] = ulasan['double'].apply(case_folding_text)\n",
        "ulasan['caseFolding']"
      ]
    },
    {
      "cell_type": "markdown",
      "metadata": {
        "id": "ftkT-TGD1Egz"
      },
      "source": [
        "**TOKENIZING**"
      ]
    },
    {
      "cell_type": "code",
      "execution_count": null,
      "metadata": {
        "colab": {
          "base_uri": "https://localhost:8080/"
        },
        "id": "tK1I7pHZgfda",
        "outputId": "6420d478-190c-4eb7-cd95-26687fca10b5"
      },
      "outputs": [
        {
          "data": {
            "text/plain": [
              "0      [ini, apk, lama, aneh, udh, jelas, jaringan, n...\n",
              "1      [pas, masukin, tanggal, lahir, kok, gak, bisa,...\n",
              "2      [aplikasi, ini, membuat, sy, tidak, nyaman, ma...\n",
              "3      [banyak, gambar, yg, tidak, bisa, diunduh, set...\n",
              "4      [kntl, gak, bisa, udah, bener, tanggal, lahir,...\n",
              "                             ...                        \n",
              "779    [sebenarnya, baik, cuman, untuk, pembaruan, ka...\n",
              "780    [untuk, versi, ini, kenapa, gambar, tidak, bis...\n",
              "781    [buat, yang, abis, di, update, trus, nggak, bi...\n",
              "782    [aku, suka, banget, pake, pinterest, kalau, ma...\n",
              "783    [the, best, lah, tapi, saran, aja, buatin, tom...\n",
              "Name: tokenizing, Length: 784, dtype: object"
            ]
          },
          "execution_count": 9,
          "metadata": {},
          "output_type": "execute_result"
        }
      ],
      "source": [
        "def tokenizing_text(ulasan):\n",
        "    return word_tokenize(ulasan)\n",
        "ulasan['tokenizing'] = ulasan['caseFolding'].apply(tokenizing_text)\n",
        "ulasan['tokenizing']"
      ]
    },
    {
      "cell_type": "markdown",
      "metadata": {
        "id": "Tmvearex1G74"
      },
      "source": [
        "**FORMALISASI**"
      ]
    },
    {
      "cell_type": "code",
      "execution_count": null,
      "metadata": {
        "colab": {
          "base_uri": "https://localhost:8080/"
        },
        "id": "Hr36EXgOghhc",
        "outputId": "b26670d9-5aa4-4978-898b-5653d62ad33d"
      },
      "outputs": [
        {
          "output_type": "execute_result",
          "data": {
            "text/plain": [
              "0      [ini, aplikasi, lama, aneh, udah, jelas, jarin...\n",
              "1      [saat, masukin, tanggal, lahir, kok, gak, bisa...\n",
              "2      [aplikasi, ini, membuat, saya, tidak, nyaman, ...\n",
              "3      [banyak, gambar, yang, tidak, bisa, diunduh, s...\n",
              "4      [sialan, gak, bisa, udah, bener, tanggal, lahi...\n",
              "                             ...                        \n",
              "779    [sebenarnya, baik, cuman, untuk, pembaruan, ka...\n",
              "780    [untuk, versi, ini, kenapa, gambar, tidak, bis...\n",
              "781    [buat, yang, abis, di, update, trus, nggak, bi...\n",
              "782    [aku, suka, banget, pake, pinterest, kalau, ma...\n",
              "783    [the, best, lah, tapi, saran, aja, buatin, tom...\n",
              "Name: formalisasi, Length: 784, dtype: object"
            ]
          },
          "metadata": {},
          "execution_count": 10
        }
      ],
      "source": [
        "def convert_to_slangword(ulasan):\n",
        "    kamus_slang = eval(open(\"kata_gaul.txt\").read())\n",
        "    pattern = re.compile(r'\\b(' + '|'.join(kamus_slang.keys()) + r')\\b')\n",
        "    content = []\n",
        "    for kata in ulasan:\n",
        "        filter_slang = pattern.sub(lambda x: kamus_slang[x.group()], kata)\n",
        "        content.append(filter_slang.lower())\n",
        "    ulasan = content\n",
        "    return ulasan\n",
        "ulasan['formalisasi'] = ulasan['tokenizing'].apply(convert_to_slangword)\n",
        "ulasan['formalisasi']"
      ]
    },
    {
      "cell_type": "markdown",
      "metadata": {
        "id": "nvQV0cpQ1J7T"
      },
      "source": [
        "**STOPWORD REMOVAL**"
      ]
    },
    {
      "cell_type": "code",
      "execution_count": null,
      "metadata": {
        "colab": {
          "base_uri": "https://localhost:8080/"
        },
        "id": "FlAfeR8WgkgA",
        "outputId": "67211339-1257-4299-a32f-63e24b92877e"
      },
      "outputs": [
        {
          "output_type": "execute_result",
          "data": {
            "text/plain": [
              "0      [aplikasi, aneh, udah, jaringan, nya, kuat, do...\n",
              "1      [masukin, tanggal, lahir, gak, mencoba, aplikasi]\n",
              "2      [aplikasi, nyaman, foto, foto, ambil, pin, gak...\n",
              "3      [gambar, diunduh, update, mengunduh, gambar, n...\n",
              "4      [sialan, gak, udah, bener, tanggal, lahir, nya...\n",
              "                             ...                        \n",
              "779    [cuman, pembaruan, kali, tolong, perbaiki, sav...\n",
              "780    [versi, gambar, download, pilih, menu, downloa...\n",
              "781    [abis, update, trus, nggak, kesimpen, gambarny...\n",
              "782    [suka, banget, pake, pinterest, nyari, inspira...\n",
              "783    [the, best, saran, aja, buatin, tombol, downlo...\n",
              "Name: stopwordRemoval, Length: 784, dtype: object"
            ]
          },
          "metadata": {},
          "execution_count": 11
        }
      ],
      "source": [
        "daftar_stopword = stopwords.words('indonesian')\n",
        "daftar_stopword = set(daftar_stopword)\n",
        "def stopword_text(words):\n",
        "    return [word for word in words if word not in daftar_stopword]\n",
        "\n",
        "ulasan['stopwordRemoval'] = ulasan['formalisasi'].apply(stopword_text)\n",
        "ulasan['stopwordRemoval']"
      ]
    },
    {
      "cell_type": "markdown",
      "metadata": {
        "id": "67Nnur6o1O13"
      },
      "source": [
        "**STEMMING**"
      ]
    },
    {
      "cell_type": "code",
      "execution_count": null,
      "metadata": {
        "colab": {
          "base_uri": "https://localhost:8080/"
        },
        "id": "zgpwczu5gmh5",
        "outputId": "9e4a9d8f-8924-4c6b-b2a2-5758a902330b"
      },
      "outputs": [
        {
          "output_type": "execute_result",
          "data": {
            "text/plain": [
              "0      [aplikasi, aneh, udah, jaring, nya, kuat, down...\n",
              "1         [masukin, tanggal, lahir, gak, coba, aplikasi]\n",
              "2      [aplikasi, nyaman, foto, foto, ambil, pin, gak...\n",
              "3      [gambar, unduh, update, unduh, gambar, nya, me...\n",
              "4      [sial, gak, udah, bener, tanggal, lahir, nya, ...\n",
              "                             ...                        \n",
              "779    [cuman, baru, kali, tolong, baik, save, bentuk...\n",
              "780    [versi, gambar, download, pilih, menu, downloa...\n",
              "781    [abis, update, trus, nggak, kesimpen, gambar, ...\n",
              "782    [suka, banget, pake, pinterest, nyari, inspira...\n",
              "783    [the, best, saran, aja, buatin, tombol, downlo...\n",
              "Name: stemming, Length: 784, dtype: object"
            ]
          },
          "metadata": {},
          "execution_count": 12
        }
      ],
      "source": [
        "factory = StemmerFactory()\n",
        "stemmer = factory.create_stemmer()\n",
        "\n",
        "def stemmed_wrapper(term):\n",
        "    return stemmer.stem(term)\n",
        "term_dict = {}\n",
        "\n",
        "for document in ulasan['stopwordRemoval']:\n",
        "    for term in document:\n",
        "        if term not in term_dict:\n",
        "            term_dict[term] = ''\n",
        "\n",
        "for term in term_dict:\n",
        "    term_dict[term] = stemmed_wrapper(term)\n",
        "\n",
        "def stemming_text(document):\n",
        "    return [term_dict[term] for term in document]\n",
        "ulasan['stemming'] = ulasan['stopwordRemoval'].apply(stemming_text)\n",
        "ulasan['stemming']"
      ]
    },
    {
      "cell_type": "markdown",
      "metadata": {
        "id": "NJ6RM1GE1SNH"
      },
      "source": [
        "**HASIL SELURUH PREPROCESSING**"
      ]
    },
    {
      "cell_type": "code",
      "execution_count": null,
      "metadata": {
        "colab": {
          "base_uri": "https://localhost:8080/",
          "height": 1000
        },
        "id": "dreAQl0YgrUZ",
        "outputId": "ab251b0f-3bd5-49ff-c593-63490e21ccc6"
      },
      "outputs": [
        {
          "output_type": "execute_result",
          "data": {
            "text/plain": [
              "                   dated  rating    label  \\\n",
              "0    2024-04-28 11:34:44       1  Negatif   \n",
              "1    2024-04-27 07:04:30       1  Negatif   \n",
              "2    2024-04-27 02:13:40       2  Negatif   \n",
              "3    2024-04-27 01:46:58       1  Negatif   \n",
              "4    2024-04-27 01:12:03       1  Negatif   \n",
              "..                   ...     ...      ...   \n",
              "779  2019-02-13 01:33:21       5  Positif   \n",
              "780  2019-02-12 17:27:39       1  Negatif   \n",
              "781  2019-02-12 10:57:13       5  Positif   \n",
              "782  2018-11-03 06:37:15       5  Positif   \n",
              "783  2018-09-22 23:31:53       5  Positif   \n",
              "\n",
              "                                                review  \\\n",
              "0    ini apk lama' aneh, udh jelas' jaringan nya KU...   \n",
              "1    Pas masukin tanggal lahir kok gak bisa\" bahkan...   \n",
              "2    Aplikasi ini membuat sy tidak nyaman ,masa fot...   \n",
              "3    Banyak gambar yg tidak bisa diunduh, setelah s...   \n",
              "4    Kntl gak bisa udah bener tanggal lahir nya mal...   \n",
              "..                                                 ...   \n",
              "779  sebenarnya baik .. cuman untuk pembaruan kali ...   \n",
              "780  untuk versi ini kenapa gambar tidak bisa di do...   \n",
              "781  buat yang abis di update trus nggak bisa kesim...   \n",
              "782  Aku suka banget pake pinterest, kalau mau nyar...   \n",
              "783  THE BEST LAH, tapi saran aja, buatin tombol do...   \n",
              "\n",
              "                                              cleaning  \\\n",
              "0    ini apk lama  aneh  udh jelas  jaringan nya KU...   \n",
              "1    Pas masukin tanggal lahir kok gak bisa  bahkan...   \n",
              "2    Aplikasi ini membuat sy tidak nyaman  masa fot...   \n",
              "3    Banyak gambar yg tidak bisa diunduh  setelah s...   \n",
              "4    Kntl gak bisa udah bener tanggal lahir nya mal...   \n",
              "..                                                 ...   \n",
              "779  sebenarnya baik    cuman untuk pembaruan kali ...   \n",
              "780  untuk versi ini kenapa gambar tidak bisa di do...   \n",
              "781  buat yang abis di update trus nggak bisa kesim...   \n",
              "782  Aku suka banget pake pinterest  kalau mau nyar...   \n",
              "783  THE BEST LAH  tapi saran aja  buatin tombol do...   \n",
              "\n",
              "                                            hapusEmoji  \\\n",
              "0    ini apk lama  aneh  udh jelas  jaringan nya KU...   \n",
              "1    Pas masukin tanggal lahir kok gak bisa  bahkan...   \n",
              "2    Aplikasi ini membuat sy tidak nyaman  masa fot...   \n",
              "3    Banyak gambar yg tidak bisa diunduh  setelah s...   \n",
              "4    Kntl gak bisa udah bener tanggal lahir nya mal...   \n",
              "..                                                 ...   \n",
              "779  sebenarnya baik    cuman untuk pembaruan kali ...   \n",
              "780  untuk versi ini kenapa gambar tidak bisa di do...   \n",
              "781  buat yang abis di update trus nggak bisa kesim...   \n",
              "782  Aku suka banget pake pinterest  kalau mau nyar...   \n",
              "783  THE BEST LAH  tapi saran aja  buatin tombol do...   \n",
              "\n",
              "                                                double  \\\n",
              "0    ini apk lama  aneh  udh jelas  jaringan nya KU...   \n",
              "1    Pas masukin tanggal lahir kok gak bisa  bahkan...   \n",
              "2    Aplikasi ini membuat sy tidak nyaman  masa fot...   \n",
              "3    Banyak gambar yg tidak bisa diunduh  setelah s...   \n",
              "4    Kntl gak bisa udah bener tanggal lahir nya mal...   \n",
              "..                                                 ...   \n",
              "779  sebenarnya baik cuman untuk pembaruan kali ini...   \n",
              "780  untuk versi ini kenapa gambar tidak bisa di do...   \n",
              "781  buat yang abis di update trus nggak bisa kesim...   \n",
              "782  Aku suka banget pake pinterest  kalau mau nyar...   \n",
              "783  THE BEST LAH  tapi saran aja  buatin tombol do...   \n",
              "\n",
              "                                           caseFolding  \\\n",
              "0    ini apk lama  aneh  udh jelas  jaringan nya ku...   \n",
              "1    pas masukin tanggal lahir kok gak bisa  bahkan...   \n",
              "2    aplikasi ini membuat sy tidak nyaman  masa fot...   \n",
              "3    banyak gambar yg tidak bisa diunduh  setelah s...   \n",
              "4    kntl gak bisa udah bener tanggal lahir nya mal...   \n",
              "..                                                 ...   \n",
              "779  sebenarnya baik cuman untuk pembaruan kali ini...   \n",
              "780  untuk versi ini kenapa gambar tidak bisa di do...   \n",
              "781  buat yang abis di update trus nggak bisa kesim...   \n",
              "782  aku suka banget pake pinterest  kalau mau nyar...   \n",
              "783  the best lah  tapi saran aja  buatin tombol do...   \n",
              "\n",
              "                                            tokenizing  \\\n",
              "0    [ini, apk, lama, aneh, udh, jelas, jaringan, n...   \n",
              "1    [pas, masukin, tanggal, lahir, kok, gak, bisa,...   \n",
              "2    [aplikasi, ini, membuat, sy, tidak, nyaman, ma...   \n",
              "3    [banyak, gambar, yg, tidak, bisa, diunduh, set...   \n",
              "4    [kntl, gak, bisa, udah, bener, tanggal, lahir,...   \n",
              "..                                                 ...   \n",
              "779  [sebenarnya, baik, cuman, untuk, pembaruan, ka...   \n",
              "780  [untuk, versi, ini, kenapa, gambar, tidak, bis...   \n",
              "781  [buat, yang, abis, di, update, trus, nggak, bi...   \n",
              "782  [aku, suka, banget, pake, pinterest, kalau, ma...   \n",
              "783  [the, best, lah, tapi, saran, aja, buatin, tom...   \n",
              "\n",
              "                                           formalisasi  \\\n",
              "0    [ini, aplikasi, lama, aneh, udah, jelas, jarin...   \n",
              "1    [saat, masukin, tanggal, lahir, kok, gak, bisa...   \n",
              "2    [aplikasi, ini, membuat, saya, tidak, nyaman, ...   \n",
              "3    [banyak, gambar, yang, tidak, bisa, diunduh, s...   \n",
              "4    [sialan, gak, bisa, udah, bener, tanggal, lahi...   \n",
              "..                                                 ...   \n",
              "779  [sebenarnya, baik, cuman, untuk, pembaruan, ka...   \n",
              "780  [untuk, versi, ini, kenapa, gambar, tidak, bis...   \n",
              "781  [buat, yang, abis, di, update, trus, nggak, bi...   \n",
              "782  [aku, suka, banget, pake, pinterest, kalau, ma...   \n",
              "783  [the, best, lah, tapi, saran, aja, buatin, tom...   \n",
              "\n",
              "                                       stopwordRemoval  \\\n",
              "0    [aplikasi, aneh, udah, jaringan, nya, kuat, do...   \n",
              "1    [masukin, tanggal, lahir, gak, mencoba, aplikasi]   \n",
              "2    [aplikasi, nyaman, foto, foto, ambil, pin, gak...   \n",
              "3    [gambar, diunduh, update, mengunduh, gambar, n...   \n",
              "4    [sialan, gak, udah, bener, tanggal, lahir, nya...   \n",
              "..                                                 ...   \n",
              "779  [cuman, pembaruan, kali, tolong, perbaiki, sav...   \n",
              "780  [versi, gambar, download, pilih, menu, downloa...   \n",
              "781  [abis, update, trus, nggak, kesimpen, gambarny...   \n",
              "782  [suka, banget, pake, pinterest, nyari, inspira...   \n",
              "783  [the, best, saran, aja, buatin, tombol, downlo...   \n",
              "\n",
              "                                              stemming  \n",
              "0    [aplikasi, aneh, udah, jaring, nya, kuat, down...  \n",
              "1       [masukin, tanggal, lahir, gak, coba, aplikasi]  \n",
              "2    [aplikasi, nyaman, foto, foto, ambil, pin, gak...  \n",
              "3    [gambar, unduh, update, unduh, gambar, nya, me...  \n",
              "4    [sial, gak, udah, bener, tanggal, lahir, nya, ...  \n",
              "..                                                 ...  \n",
              "779  [cuman, baru, kali, tolong, baik, save, bentuk...  \n",
              "780  [versi, gambar, download, pilih, menu, downloa...  \n",
              "781  [abis, update, trus, nggak, kesimpen, gambar, ...  \n",
              "782  [suka, banget, pake, pinterest, nyari, inspira...  \n",
              "783  [the, best, saran, aja, buatin, tombol, downlo...  \n",
              "\n",
              "[784 rows x 12 columns]"
            ],
            "text/html": [
              "\n",
              "  <div id=\"df-49fbfb7f-fef9-4fa8-a3b0-605746633d7a\" class=\"colab-df-container\">\n",
              "    <div>\n",
              "<style scoped>\n",
              "    .dataframe tbody tr th:only-of-type {\n",
              "        vertical-align: middle;\n",
              "    }\n",
              "\n",
              "    .dataframe tbody tr th {\n",
              "        vertical-align: top;\n",
              "    }\n",
              "\n",
              "    .dataframe thead th {\n",
              "        text-align: right;\n",
              "    }\n",
              "</style>\n",
              "<table border=\"1\" class=\"dataframe\">\n",
              "  <thead>\n",
              "    <tr style=\"text-align: right;\">\n",
              "      <th></th>\n",
              "      <th>dated</th>\n",
              "      <th>rating</th>\n",
              "      <th>label</th>\n",
              "      <th>review</th>\n",
              "      <th>cleaning</th>\n",
              "      <th>hapusEmoji</th>\n",
              "      <th>double</th>\n",
              "      <th>caseFolding</th>\n",
              "      <th>tokenizing</th>\n",
              "      <th>formalisasi</th>\n",
              "      <th>stopwordRemoval</th>\n",
              "      <th>stemming</th>\n",
              "    </tr>\n",
              "  </thead>\n",
              "  <tbody>\n",
              "    <tr>\n",
              "      <th>0</th>\n",
              "      <td>2024-04-28 11:34:44</td>\n",
              "      <td>1</td>\n",
              "      <td>Negatif</td>\n",
              "      <td>ini apk lama' aneh, udh jelas' jaringan nya KU...</td>\n",
              "      <td>ini apk lama  aneh  udh jelas  jaringan nya KU...</td>\n",
              "      <td>ini apk lama  aneh  udh jelas  jaringan nya KU...</td>\n",
              "      <td>ini apk lama  aneh  udh jelas  jaringan nya KU...</td>\n",
              "      <td>ini apk lama  aneh  udh jelas  jaringan nya ku...</td>\n",
              "      <td>[ini, apk, lama, aneh, udh, jelas, jaringan, n...</td>\n",
              "      <td>[ini, aplikasi, lama, aneh, udah, jelas, jarin...</td>\n",
              "      <td>[aplikasi, aneh, udah, jaringan, nya, kuat, do...</td>\n",
              "      <td>[aplikasi, aneh, udah, jaring, nya, kuat, down...</td>\n",
              "    </tr>\n",
              "    <tr>\n",
              "      <th>1</th>\n",
              "      <td>2024-04-27 07:04:30</td>\n",
              "      <td>1</td>\n",
              "      <td>Negatif</td>\n",
              "      <td>Pas masukin tanggal lahir kok gak bisa\" bahkan...</td>\n",
              "      <td>Pas masukin tanggal lahir kok gak bisa  bahkan...</td>\n",
              "      <td>Pas masukin tanggal lahir kok gak bisa  bahkan...</td>\n",
              "      <td>Pas masukin tanggal lahir kok gak bisa  bahkan...</td>\n",
              "      <td>pas masukin tanggal lahir kok gak bisa  bahkan...</td>\n",
              "      <td>[pas, masukin, tanggal, lahir, kok, gak, bisa,...</td>\n",
              "      <td>[saat, masukin, tanggal, lahir, kok, gak, bisa...</td>\n",
              "      <td>[masukin, tanggal, lahir, gak, mencoba, aplikasi]</td>\n",
              "      <td>[masukin, tanggal, lahir, gak, coba, aplikasi]</td>\n",
              "    </tr>\n",
              "    <tr>\n",
              "      <th>2</th>\n",
              "      <td>2024-04-27 02:13:40</td>\n",
              "      <td>2</td>\n",
              "      <td>Negatif</td>\n",
              "      <td>Aplikasi ini membuat sy tidak nyaman ,masa fot...</td>\n",
              "      <td>Aplikasi ini membuat sy tidak nyaman  masa fot...</td>\n",
              "      <td>Aplikasi ini membuat sy tidak nyaman  masa fot...</td>\n",
              "      <td>Aplikasi ini membuat sy tidak nyaman  masa fot...</td>\n",
              "      <td>aplikasi ini membuat sy tidak nyaman  masa fot...</td>\n",
              "      <td>[aplikasi, ini, membuat, sy, tidak, nyaman, ma...</td>\n",
              "      <td>[aplikasi, ini, membuat, saya, tidak, nyaman, ...</td>\n",
              "      <td>[aplikasi, nyaman, foto, foto, ambil, pin, gak...</td>\n",
              "      <td>[aplikasi, nyaman, foto, foto, ambil, pin, gak...</td>\n",
              "    </tr>\n",
              "    <tr>\n",
              "      <th>3</th>\n",
              "      <td>2024-04-27 01:46:58</td>\n",
              "      <td>1</td>\n",
              "      <td>Negatif</td>\n",
              "      <td>Banyak gambar yg tidak bisa diunduh, setelah s...</td>\n",
              "      <td>Banyak gambar yg tidak bisa diunduh  setelah s...</td>\n",
              "      <td>Banyak gambar yg tidak bisa diunduh  setelah s...</td>\n",
              "      <td>Banyak gambar yg tidak bisa diunduh  setelah s...</td>\n",
              "      <td>banyak gambar yg tidak bisa diunduh  setelah s...</td>\n",
              "      <td>[banyak, gambar, yg, tidak, bisa, diunduh, set...</td>\n",
              "      <td>[banyak, gambar, yang, tidak, bisa, diunduh, s...</td>\n",
              "      <td>[gambar, diunduh, update, mengunduh, gambar, n...</td>\n",
              "      <td>[gambar, unduh, update, unduh, gambar, nya, me...</td>\n",
              "    </tr>\n",
              "    <tr>\n",
              "      <th>4</th>\n",
              "      <td>2024-04-27 01:12:03</td>\n",
              "      <td>1</td>\n",
              "      <td>Negatif</td>\n",
              "      <td>Kntl gak bisa udah bener tanggal lahir nya mal...</td>\n",
              "      <td>Kntl gak bisa udah bener tanggal lahir nya mal...</td>\n",
              "      <td>Kntl gak bisa udah bener tanggal lahir nya mal...</td>\n",
              "      <td>Kntl gak bisa udah bener tanggal lahir nya mal...</td>\n",
              "      <td>kntl gak bisa udah bener tanggal lahir nya mal...</td>\n",
              "      <td>[kntl, gak, bisa, udah, bener, tanggal, lahir,...</td>\n",
              "      <td>[sialan, gak, bisa, udah, bener, tanggal, lahi...</td>\n",
              "      <td>[sialan, gak, udah, bener, tanggal, lahir, nya...</td>\n",
              "      <td>[sial, gak, udah, bener, tanggal, lahir, nya, ...</td>\n",
              "    </tr>\n",
              "    <tr>\n",
              "      <th>...</th>\n",
              "      <td>...</td>\n",
              "      <td>...</td>\n",
              "      <td>...</td>\n",
              "      <td>...</td>\n",
              "      <td>...</td>\n",
              "      <td>...</td>\n",
              "      <td>...</td>\n",
              "      <td>...</td>\n",
              "      <td>...</td>\n",
              "      <td>...</td>\n",
              "      <td>...</td>\n",
              "      <td>...</td>\n",
              "    </tr>\n",
              "    <tr>\n",
              "      <th>779</th>\n",
              "      <td>2019-02-13 01:33:21</td>\n",
              "      <td>5</td>\n",
              "      <td>Positif</td>\n",
              "      <td>sebenarnya baik .. cuman untuk pembaruan kali ...</td>\n",
              "      <td>sebenarnya baik    cuman untuk pembaruan kali ...</td>\n",
              "      <td>sebenarnya baik    cuman untuk pembaruan kali ...</td>\n",
              "      <td>sebenarnya baik cuman untuk pembaruan kali ini...</td>\n",
              "      <td>sebenarnya baik cuman untuk pembaruan kali ini...</td>\n",
              "      <td>[sebenarnya, baik, cuman, untuk, pembaruan, ka...</td>\n",
              "      <td>[sebenarnya, baik, cuman, untuk, pembaruan, ka...</td>\n",
              "      <td>[cuman, pembaruan, kali, tolong, perbaiki, sav...</td>\n",
              "      <td>[cuman, baru, kali, tolong, baik, save, bentuk...</td>\n",
              "    </tr>\n",
              "    <tr>\n",
              "      <th>780</th>\n",
              "      <td>2019-02-12 17:27:39</td>\n",
              "      <td>1</td>\n",
              "      <td>Negatif</td>\n",
              "      <td>untuk versi ini kenapa gambar tidak bisa di do...</td>\n",
              "      <td>untuk versi ini kenapa gambar tidak bisa di do...</td>\n",
              "      <td>untuk versi ini kenapa gambar tidak bisa di do...</td>\n",
              "      <td>untuk versi ini kenapa gambar tidak bisa di do...</td>\n",
              "      <td>untuk versi ini kenapa gambar tidak bisa di do...</td>\n",
              "      <td>[untuk, versi, ini, kenapa, gambar, tidak, bis...</td>\n",
              "      <td>[untuk, versi, ini, kenapa, gambar, tidak, bis...</td>\n",
              "      <td>[versi, gambar, download, pilih, menu, downloa...</td>\n",
              "      <td>[versi, gambar, download, pilih, menu, downloa...</td>\n",
              "    </tr>\n",
              "    <tr>\n",
              "      <th>781</th>\n",
              "      <td>2019-02-12 10:57:13</td>\n",
              "      <td>5</td>\n",
              "      <td>Positif</td>\n",
              "      <td>buat yang abis di update trus nggak bisa kesim...</td>\n",
              "      <td>buat yang abis di update trus nggak bisa kesim...</td>\n",
              "      <td>buat yang abis di update trus nggak bisa kesim...</td>\n",
              "      <td>buat yang abis di update trus nggak bisa kesim...</td>\n",
              "      <td>buat yang abis di update trus nggak bisa kesim...</td>\n",
              "      <td>[buat, yang, abis, di, update, trus, nggak, bi...</td>\n",
              "      <td>[buat, yang, abis, di, update, trus, nggak, bi...</td>\n",
              "      <td>[abis, update, trus, nggak, kesimpen, gambarny...</td>\n",
              "      <td>[abis, update, trus, nggak, kesimpen, gambar, ...</td>\n",
              "    </tr>\n",
              "    <tr>\n",
              "      <th>782</th>\n",
              "      <td>2018-11-03 06:37:15</td>\n",
              "      <td>5</td>\n",
              "      <td>Positif</td>\n",
              "      <td>Aku suka banget pake pinterest, kalau mau nyar...</td>\n",
              "      <td>Aku suka banget pake pinterest  kalau mau nyar...</td>\n",
              "      <td>Aku suka banget pake pinterest  kalau mau nyar...</td>\n",
              "      <td>Aku suka banget pake pinterest  kalau mau nyar...</td>\n",
              "      <td>aku suka banget pake pinterest  kalau mau nyar...</td>\n",
              "      <td>[aku, suka, banget, pake, pinterest, kalau, ma...</td>\n",
              "      <td>[aku, suka, banget, pake, pinterest, kalau, ma...</td>\n",
              "      <td>[suka, banget, pake, pinterest, nyari, inspira...</td>\n",
              "      <td>[suka, banget, pake, pinterest, nyari, inspira...</td>\n",
              "    </tr>\n",
              "    <tr>\n",
              "      <th>783</th>\n",
              "      <td>2018-09-22 23:31:53</td>\n",
              "      <td>5</td>\n",
              "      <td>Positif</td>\n",
              "      <td>THE BEST LAH, tapi saran aja, buatin tombol do...</td>\n",
              "      <td>THE BEST LAH  tapi saran aja  buatin tombol do...</td>\n",
              "      <td>THE BEST LAH  tapi saran aja  buatin tombol do...</td>\n",
              "      <td>THE BEST LAH  tapi saran aja  buatin tombol do...</td>\n",
              "      <td>the best lah  tapi saran aja  buatin tombol do...</td>\n",
              "      <td>[the, best, lah, tapi, saran, aja, buatin, tom...</td>\n",
              "      <td>[the, best, lah, tapi, saran, aja, buatin, tom...</td>\n",
              "      <td>[the, best, saran, aja, buatin, tombol, downlo...</td>\n",
              "      <td>[the, best, saran, aja, buatin, tombol, downlo...</td>\n",
              "    </tr>\n",
              "  </tbody>\n",
              "</table>\n",
              "<p>784 rows × 12 columns</p>\n",
              "</div>\n",
              "    <div class=\"colab-df-buttons\">\n",
              "\n",
              "  <div class=\"colab-df-container\">\n",
              "    <button class=\"colab-df-convert\" onclick=\"convertToInteractive('df-49fbfb7f-fef9-4fa8-a3b0-605746633d7a')\"\n",
              "            title=\"Convert this dataframe to an interactive table.\"\n",
              "            style=\"display:none;\">\n",
              "\n",
              "  <svg xmlns=\"http://www.w3.org/2000/svg\" height=\"24px\" viewBox=\"0 -960 960 960\">\n",
              "    <path d=\"M120-120v-720h720v720H120Zm60-500h600v-160H180v160Zm220 220h160v-160H400v160Zm0 220h160v-160H400v160ZM180-400h160v-160H180v160Zm440 0h160v-160H620v160ZM180-180h160v-160H180v160Zm440 0h160v-160H620v160Z\"/>\n",
              "  </svg>\n",
              "    </button>\n",
              "\n",
              "  <style>\n",
              "    .colab-df-container {\n",
              "      display:flex;\n",
              "      gap: 12px;\n",
              "    }\n",
              "\n",
              "    .colab-df-convert {\n",
              "      background-color: #E8F0FE;\n",
              "      border: none;\n",
              "      border-radius: 50%;\n",
              "      cursor: pointer;\n",
              "      display: none;\n",
              "      fill: #1967D2;\n",
              "      height: 32px;\n",
              "      padding: 0 0 0 0;\n",
              "      width: 32px;\n",
              "    }\n",
              "\n",
              "    .colab-df-convert:hover {\n",
              "      background-color: #E2EBFA;\n",
              "      box-shadow: 0px 1px 2px rgba(60, 64, 67, 0.3), 0px 1px 3px 1px rgba(60, 64, 67, 0.15);\n",
              "      fill: #174EA6;\n",
              "    }\n",
              "\n",
              "    .colab-df-buttons div {\n",
              "      margin-bottom: 4px;\n",
              "    }\n",
              "\n",
              "    [theme=dark] .colab-df-convert {\n",
              "      background-color: #3B4455;\n",
              "      fill: #D2E3FC;\n",
              "    }\n",
              "\n",
              "    [theme=dark] .colab-df-convert:hover {\n",
              "      background-color: #434B5C;\n",
              "      box-shadow: 0px 1px 3px 1px rgba(0, 0, 0, 0.15);\n",
              "      filter: drop-shadow(0px 1px 2px rgba(0, 0, 0, 0.3));\n",
              "      fill: #FFFFFF;\n",
              "    }\n",
              "  </style>\n",
              "\n",
              "    <script>\n",
              "      const buttonEl =\n",
              "        document.querySelector('#df-49fbfb7f-fef9-4fa8-a3b0-605746633d7a button.colab-df-convert');\n",
              "      buttonEl.style.display =\n",
              "        google.colab.kernel.accessAllowed ? 'block' : 'none';\n",
              "\n",
              "      async function convertToInteractive(key) {\n",
              "        const element = document.querySelector('#df-49fbfb7f-fef9-4fa8-a3b0-605746633d7a');\n",
              "        const dataTable =\n",
              "          await google.colab.kernel.invokeFunction('convertToInteractive',\n",
              "                                                    [key], {});\n",
              "        if (!dataTable) return;\n",
              "\n",
              "        const docLinkHtml = 'Like what you see? Visit the ' +\n",
              "          '<a target=\"_blank\" href=https://colab.research.google.com/notebooks/data_table.ipynb>data table notebook</a>'\n",
              "          + ' to learn more about interactive tables.';\n",
              "        element.innerHTML = '';\n",
              "        dataTable['output_type'] = 'display_data';\n",
              "        await google.colab.output.renderOutput(dataTable, element);\n",
              "        const docLink = document.createElement('div');\n",
              "        docLink.innerHTML = docLinkHtml;\n",
              "        element.appendChild(docLink);\n",
              "      }\n",
              "    </script>\n",
              "  </div>\n",
              "\n",
              "\n",
              "<div id=\"df-b96672a9-3b55-48e3-90ed-9fc873029efa\">\n",
              "  <button class=\"colab-df-quickchart\" onclick=\"quickchart('df-b96672a9-3b55-48e3-90ed-9fc873029efa')\"\n",
              "            title=\"Suggest charts\"\n",
              "            style=\"display:none;\">\n",
              "\n",
              "<svg xmlns=\"http://www.w3.org/2000/svg\" height=\"24px\"viewBox=\"0 0 24 24\"\n",
              "     width=\"24px\">\n",
              "    <g>\n",
              "        <path d=\"M19 3H5c-1.1 0-2 .9-2 2v14c0 1.1.9 2 2 2h14c1.1 0 2-.9 2-2V5c0-1.1-.9-2-2-2zM9 17H7v-7h2v7zm4 0h-2V7h2v10zm4 0h-2v-4h2v4z\"/>\n",
              "    </g>\n",
              "</svg>\n",
              "  </button>\n",
              "\n",
              "<style>\n",
              "  .colab-df-quickchart {\n",
              "      --bg-color: #E8F0FE;\n",
              "      --fill-color: #1967D2;\n",
              "      --hover-bg-color: #E2EBFA;\n",
              "      --hover-fill-color: #174EA6;\n",
              "      --disabled-fill-color: #AAA;\n",
              "      --disabled-bg-color: #DDD;\n",
              "  }\n",
              "\n",
              "  [theme=dark] .colab-df-quickchart {\n",
              "      --bg-color: #3B4455;\n",
              "      --fill-color: #D2E3FC;\n",
              "      --hover-bg-color: #434B5C;\n",
              "      --hover-fill-color: #FFFFFF;\n",
              "      --disabled-bg-color: #3B4455;\n",
              "      --disabled-fill-color: #666;\n",
              "  }\n",
              "\n",
              "  .colab-df-quickchart {\n",
              "    background-color: var(--bg-color);\n",
              "    border: none;\n",
              "    border-radius: 50%;\n",
              "    cursor: pointer;\n",
              "    display: none;\n",
              "    fill: var(--fill-color);\n",
              "    height: 32px;\n",
              "    padding: 0;\n",
              "    width: 32px;\n",
              "  }\n",
              "\n",
              "  .colab-df-quickchart:hover {\n",
              "    background-color: var(--hover-bg-color);\n",
              "    box-shadow: 0 1px 2px rgba(60, 64, 67, 0.3), 0 1px 3px 1px rgba(60, 64, 67, 0.15);\n",
              "    fill: var(--button-hover-fill-color);\n",
              "  }\n",
              "\n",
              "  .colab-df-quickchart-complete:disabled,\n",
              "  .colab-df-quickchart-complete:disabled:hover {\n",
              "    background-color: var(--disabled-bg-color);\n",
              "    fill: var(--disabled-fill-color);\n",
              "    box-shadow: none;\n",
              "  }\n",
              "\n",
              "  .colab-df-spinner {\n",
              "    border: 2px solid var(--fill-color);\n",
              "    border-color: transparent;\n",
              "    border-bottom-color: var(--fill-color);\n",
              "    animation:\n",
              "      spin 1s steps(1) infinite;\n",
              "  }\n",
              "\n",
              "  @keyframes spin {\n",
              "    0% {\n",
              "      border-color: transparent;\n",
              "      border-bottom-color: var(--fill-color);\n",
              "      border-left-color: var(--fill-color);\n",
              "    }\n",
              "    20% {\n",
              "      border-color: transparent;\n",
              "      border-left-color: var(--fill-color);\n",
              "      border-top-color: var(--fill-color);\n",
              "    }\n",
              "    30% {\n",
              "      border-color: transparent;\n",
              "      border-left-color: var(--fill-color);\n",
              "      border-top-color: var(--fill-color);\n",
              "      border-right-color: var(--fill-color);\n",
              "    }\n",
              "    40% {\n",
              "      border-color: transparent;\n",
              "      border-right-color: var(--fill-color);\n",
              "      border-top-color: var(--fill-color);\n",
              "    }\n",
              "    60% {\n",
              "      border-color: transparent;\n",
              "      border-right-color: var(--fill-color);\n",
              "    }\n",
              "    80% {\n",
              "      border-color: transparent;\n",
              "      border-right-color: var(--fill-color);\n",
              "      border-bottom-color: var(--fill-color);\n",
              "    }\n",
              "    90% {\n",
              "      border-color: transparent;\n",
              "      border-bottom-color: var(--fill-color);\n",
              "    }\n",
              "  }\n",
              "</style>\n",
              "\n",
              "  <script>\n",
              "    async function quickchart(key) {\n",
              "      const quickchartButtonEl =\n",
              "        document.querySelector('#' + key + ' button');\n",
              "      quickchartButtonEl.disabled = true;  // To prevent multiple clicks.\n",
              "      quickchartButtonEl.classList.add('colab-df-spinner');\n",
              "      try {\n",
              "        const charts = await google.colab.kernel.invokeFunction(\n",
              "            'suggestCharts', [key], {});\n",
              "      } catch (error) {\n",
              "        console.error('Error during call to suggestCharts:', error);\n",
              "      }\n",
              "      quickchartButtonEl.classList.remove('colab-df-spinner');\n",
              "      quickchartButtonEl.classList.add('colab-df-quickchart-complete');\n",
              "    }\n",
              "    (() => {\n",
              "      let quickchartButtonEl =\n",
              "        document.querySelector('#df-b96672a9-3b55-48e3-90ed-9fc873029efa button');\n",
              "      quickchartButtonEl.style.display =\n",
              "        google.colab.kernel.accessAllowed ? 'block' : 'none';\n",
              "    })();\n",
              "  </script>\n",
              "</div>\n",
              "    </div>\n",
              "  </div>\n"
            ],
            "application/vnd.google.colaboratory.intrinsic+json": {
              "type": "dataframe",
              "variable_name": "ulasan",
              "summary": "{\n  \"name\": \"ulasan\",\n  \"rows\": 784,\n  \"fields\": [\n    {\n      \"column\": \"dated\",\n      \"properties\": {\n        \"dtype\": \"object\",\n        \"num_unique_values\": 784,\n        \"samples\": [\n          \"2023-12-10 16:24:41\",\n          \"2023-12-13 22:04:40\",\n          \"2024-03-03 10:00:38\"\n        ],\n        \"semantic_type\": \"\",\n        \"description\": \"\"\n      }\n    },\n    {\n      \"column\": \"rating\",\n      \"properties\": {\n        \"dtype\": \"number\",\n        \"std\": 1,\n        \"min\": 1,\n        \"max\": 5,\n        \"num_unique_values\": 4,\n        \"samples\": [\n          2,\n          5,\n          1\n        ],\n        \"semantic_type\": \"\",\n        \"description\": \"\"\n      }\n    },\n    {\n      \"column\": \"label\",\n      \"properties\": {\n        \"dtype\": \"category\",\n        \"num_unique_values\": 2,\n        \"samples\": [\n          \"Positif\",\n          \"Negatif\"\n        ],\n        \"semantic_type\": \"\",\n        \"description\": \"\"\n      }\n    },\n    {\n      \"column\": \"review\",\n      \"properties\": {\n        \"dtype\": \"string\",\n        \"num_unique_values\": 783,\n        \"samples\": [\n          \"Aku suka sama apk nya cuman satu ada kurang nya mangkanya aku kasih bintang 4 dia bermasalah padahal wifi ku gak kenapa napa apk ku yang lain juga gak papa terus foto nya gak bisa di unduh padahal biasanya bisa\",\n          \"Ini aplikasi baru download langsung disuruh bikin akun, pas giliran umur gw ditanya dengan jujur, lah kok gk bisa, tolong kedepannya lebih baik lagi ini aplikasi.\"\n        ],\n        \"semantic_type\": \"\",\n        \"description\": \"\"\n      }\n    },\n    {\n      \"column\": \"cleaning\",\n      \"properties\": {\n        \"dtype\": \"string\",\n        \"num_unique_values\": 783,\n        \"samples\": [\n          \"Aku suka sama apk nya cuman satu ada kurang nya mangkanya aku kasih bintang   dia bermasalah padahal wifi ku gak kenapa napa apk ku yang lain juga gak papa terus foto nya gak bisa di unduh padahal biasanya bisa\",\n          \"Ini aplikasi baru download langsung disuruh bikin akun  pas giliran umur gw ditanya dengan jujur  lah kok gk bisa  tolong kedepannya lebih baik lagi ini aplikasi\"\n        ],\n        \"semantic_type\": \"\",\n        \"description\": \"\"\n      }\n    },\n    {\n      \"column\": \"hapusEmoji\",\n      \"properties\": {\n        \"dtype\": \"string\",\n        \"num_unique_values\": 783,\n        \"samples\": [\n          \"Aku suka sama apk nya cuman satu ada kurang nya mangkanya aku kasih bintang   dia bermasalah padahal wifi ku gak kenapa napa apk ku yang lain juga gak papa terus foto nya gak bisa di unduh padahal biasanya bisa\",\n          \"Ini aplikasi baru download langsung disuruh bikin akun  pas giliran umur gw ditanya dengan jujur  lah kok gk bisa  tolong kedepannya lebih baik lagi ini aplikasi\"\n        ],\n        \"semantic_type\": \"\",\n        \"description\": \"\"\n      }\n    },\n    {\n      \"column\": \"double\",\n      \"properties\": {\n        \"dtype\": \"string\",\n        \"num_unique_values\": 780,\n        \"samples\": [\n          \"Kenapa saya kasi bintang Karena aplikasi ini udh bagus Kita bisa cari foto ulzang dll Bisa juga buat kasi soal Bisa kita cari soalnya Dan bisa cari ulzang cowo cewe Dan bisa coupelan PP sama teman atau dll Debess banget deh Tapi pengen banget ga pake wifi Kouta Masalahnya kalo lagi pergi pergi ga ad kauta atau Wifi Bisa kita cari dengan Secara offline Tapi gpp deh ini aja udh bagus Ywdh dari saya terimakasih\",\n          \"Scroll ke bawah mlh macet  pdh jaringan bagus  suka refresh sendiri  gambar blur separuh\"\n        ],\n        \"semantic_type\": \"\",\n        \"description\": \"\"\n      }\n    },\n    {\n      \"column\": \"caseFolding\",\n      \"properties\": {\n        \"dtype\": \"string\",\n        \"num_unique_values\": 779,\n        \"samples\": [\n          \"jelek fitur horizontal nya kok dihilangkan si jadi malas buat upload gambar kembalikan fitur horizontal nya\",\n          \"pinterest please diperbaiki lagi  saya sudah update dan itu memperparah isi dari aplikasi itu sendiri  saat dibuka  aplikasi selalu mengatakan bahwa ada masalah  padahal jaringannya sangat baik  dan pengguna pun tidak di temukan  padahal banyak ide yang sudah saya simpan disana\"\n        ],\n        \"semantic_type\": \"\",\n        \"description\": \"\"\n      }\n    },\n    {\n      \"column\": \"tokenizing\",\n      \"properties\": {\n        \"dtype\": \"object\",\n        \"semantic_type\": \"\",\n        \"description\": \"\"\n      }\n    },\n    {\n      \"column\": \"formalisasi\",\n      \"properties\": {\n        \"dtype\": \"object\",\n        \"semantic_type\": \"\",\n        \"description\": \"\"\n      }\n    },\n    {\n      \"column\": \"stopwordRemoval\",\n      \"properties\": {\n        \"dtype\": \"object\",\n        \"semantic_type\": \"\",\n        \"description\": \"\"\n      }\n    },\n    {\n      \"column\": \"stemming\",\n      \"properties\": {\n        \"dtype\": \"object\",\n        \"semantic_type\": \"\",\n        \"description\": \"\"\n      }\n    }\n  ]\n}"
            }
          },
          "metadata": {},
          "execution_count": 13
        }
      ],
      "source": [
        "ulasan"
      ]
    },
    {
      "cell_type": "markdown",
      "metadata": {
        "id": "1BvfrGXH1Vvc"
      },
      "source": [
        "**BAGI DATA**"
      ]
    },
    {
      "cell_type": "code",
      "execution_count": null,
      "metadata": {
        "id": "_bylKem6gsKV"
      },
      "outputs": [],
      "source": [
        "X = ulasan['stemming']\n",
        "Y = ulasan['label']\n",
        "\n",
        "x_train, x_test, y_train, y_test = train_test_split(X, Y, test_size=0.2, random_state=64)\n",
        "\n",
        "x_train_text = [' '.join(tokens) for tokens in x_train]\n",
        "x_test_text = [' '.join(tokens) for tokens in x_test]"
      ]
    },
    {
      "cell_type": "markdown",
      "metadata": {
        "id": "dnEkXmR0fET0"
      },
      "source": [
        "**TF-IDF**"
      ]
    },
    {
      "cell_type": "code",
      "execution_count": null,
      "metadata": {
        "colab": {
          "base_uri": "https://localhost:8080/"
        },
        "id": "OF1E7Uc4fGxY",
        "outputId": "81488688-0a1d-4ef1-c5a1-ef1aae950658"
      },
      "outputs": [
        {
          "output_type": "stream",
          "name": "stdout",
          "text": [
            "Panjang x_train_tfidf:  (627, 1547)\n",
            "Panjang x_test_tfidf:  (157, 1547)\n"
          ]
        }
      ],
      "source": [
        "tfidf_vectorizer = TfidfVectorizer(max_df=0.90, max_features=2000)\n",
        "x_train_tfidf = tfidf_vectorizer.fit_transform(x_train_text)\n",
        "x_test_tfidf = tfidf_vectorizer.transform(x_test_text)\n",
        "\n",
        "print(\"Panjang x_train_tfidf: \", x_train_tfidf.shape)\n",
        "print(\"Panjang x_test_tfidf: \", x_test_tfidf.shape)"
      ]
    },
    {
      "cell_type": "code",
      "execution_count": null,
      "metadata": {
        "colab": {
          "base_uri": "https://localhost:8080/"
        },
        "id": "lUkxdQVQ85Rf",
        "outputId": "7a0f693c-093e-444d-a51a-a9f58b53272e"
      },
      "outputs": [
        {
          "output_type": "stream",
          "name": "stdout",
          "text": [
            "TF-IDF untuk x_train:\n",
            "     aaman  abad  abis  abistu  acak  acc  adil  admin  aehstetik  aeshtetick  \\\n",
            "0      0.0   0.0   0.0     0.0   0.0  0.0   0.0    0.0        0.0         0.0   \n",
            "1      0.0   0.0   0.0     0.0   0.0  0.0   0.0    0.0        0.0         0.0   \n",
            "2      0.0   0.0   0.0     0.0   0.0  0.0   0.0    0.0        0.0         0.0   \n",
            "3      0.0   0.0   0.0     0.0   0.0  0.0   0.0    0.0        0.0         0.0   \n",
            "4      0.0   0.0   0.0     0.0   0.0  0.0   0.0    0.0        0.0         0.0   \n",
            "..     ...   ...   ...     ...   ...  ...   ...    ...        ...         ...   \n",
            "622    0.0   0.0   0.0     0.0   0.0  0.0   0.0    0.0        0.0         0.0   \n",
            "623    0.0   0.0   0.0     0.0   0.0  0.0   0.0    0.0        0.0         0.0   \n",
            "624    0.0   0.0   0.0     0.0   0.0  0.0   0.0    0.0        0.0         0.0   \n",
            "625    0.0   0.0   0.0     0.0   0.0  0.0   0.0    0.0        0.0         0.0   \n",
            "626    0.0   0.0   0.0     0.0   0.0  0.0   0.0    0.0        0.0         0.0   \n",
            "\n",
            "     ...  yidak  yoerobun  yoo  you  your  youtube   yt  ytb  ywdh  zafhran  \n",
            "0    ...    0.0       0.0  0.0  0.0   0.0      0.0  0.0  0.0   0.0      0.0  \n",
            "1    ...    0.0       0.0  0.0  0.0   0.0      0.0  0.0  0.0   0.0      0.0  \n",
            "2    ...    0.0       0.0  0.0  0.0   0.0      0.0  0.0  0.0   0.0      0.0  \n",
            "3    ...    0.0       0.0  0.0  0.0   0.0      0.0  0.0  0.0   0.0      0.0  \n",
            "4    ...    0.0       0.0  0.0  0.0   0.0      0.0  0.0  0.0   0.0      0.0  \n",
            "..   ...    ...       ...  ...  ...   ...      ...  ...  ...   ...      ...  \n",
            "622  ...    0.0       0.0  0.0  0.0   0.0      0.0  0.0  0.0   0.0      0.0  \n",
            "623  ...    0.0       0.0  0.0  0.0   0.0      0.0  0.0  0.0   0.0      0.0  \n",
            "624  ...    0.0       0.0  0.0  0.0   0.0      0.0  0.0  0.0   0.0      0.0  \n",
            "625  ...    0.0       0.0  0.0  0.0   0.0      0.0  0.0  0.0   0.0      0.0  \n",
            "626  ...    0.0       0.0  0.0  0.0   0.0      0.0  0.0  0.0   0.0      0.0  \n",
            "\n",
            "[627 rows x 1547 columns]\n",
            "TF-IDF untuk x_test:\n",
            "     aaman  abad  abis  abistu  acak  acc  adil  admin  aehstetik  aeshtetick  \\\n",
            "0      0.0   0.0   0.0     0.0   0.0  0.0   0.0    0.0        0.0         0.0   \n",
            "1      0.0   0.0   0.0     0.0   0.0  0.0   0.0    0.0        0.0         0.0   \n",
            "2      0.0   0.0   0.0     0.0   0.0  0.0   0.0    0.0        0.0         0.0   \n",
            "3      0.0   0.0   0.0     0.0   0.0  0.0   0.0    0.0        0.0         0.0   \n",
            "4      0.0   0.0   0.0     0.0   0.0  0.0   0.0    0.0        0.0         0.0   \n",
            "..     ...   ...   ...     ...   ...  ...   ...    ...        ...         ...   \n",
            "152    0.0   0.0   0.0     0.0   0.0  0.0   0.0    0.0        0.0         0.0   \n",
            "153    0.0   0.0   0.0     0.0   0.0  0.0   0.0    0.0        0.0         0.0   \n",
            "154    0.0   0.0   0.0     0.0   0.0  0.0   0.0    0.0        0.0         0.0   \n",
            "155    0.0   0.0   0.0     0.0   0.0  0.0   0.0    0.0        0.0         0.0   \n",
            "156    0.0   0.0   0.0     0.0   0.0  0.0   0.0    0.0        0.0         0.0   \n",
            "\n",
            "     ...  yidak  yoerobun  yoo  you  your  youtube   yt  ytb  ywdh  zafhran  \n",
            "0    ...    0.0       0.0  0.0  0.0   0.0      0.0  0.0  0.0   0.0      0.0  \n",
            "1    ...    0.0       0.0  0.0  0.0   0.0      0.0  0.0  0.0   0.0      0.0  \n",
            "2    ...    0.0       0.0  0.0  0.0   0.0      0.0  0.0  0.0   0.0      0.0  \n",
            "3    ...    0.0       0.0  0.0  0.0   0.0      0.0  0.0  0.0   0.0      0.0  \n",
            "4    ...    0.0       0.0  0.0  0.0   0.0      0.0  0.0  0.0   0.0      0.0  \n",
            "..   ...    ...       ...  ...  ...   ...      ...  ...  ...   ...      ...  \n",
            "152  ...    0.0       0.0  0.0  0.0   0.0      0.0  0.0  0.0   0.0      0.0  \n",
            "153  ...    0.0       0.0  0.0  0.0   0.0      0.0  0.0  0.0   0.0      0.0  \n",
            "154  ...    0.0       0.0  0.0  0.0   0.0      0.0  0.0  0.0   0.0      0.0  \n",
            "155  ...    0.0       0.0  0.0  0.0   0.0      0.0  0.0  0.0   0.0      0.0  \n",
            "156  ...    0.0       0.0  0.0  0.0   0.0      0.0  0.0  0.0   0.0      0.0  \n",
            "\n",
            "[157 rows x 1547 columns]\n"
          ]
        }
      ],
      "source": [
        "feature_names = tfidf_vectorizer.get_feature_names_out()\n",
        "\n",
        "x_train_tfidf_df = pd.DataFrame(x_train_tfidf.toarray(), columns=feature_names)\n",
        "print(\"TF-IDF untuk x_train:\")\n",
        "print(x_train_tfidf_df)\n",
        "\n",
        "x_test_tfidf_df = pd.DataFrame(x_test_tfidf.toarray(), columns=feature_names)\n",
        "print(\"TF-IDF untuk x_test:\")\n",
        "print(x_test_tfidf_df)"
      ]
    },
    {
      "cell_type": "markdown",
      "metadata": {
        "id": "AEXCiNnH1eRr"
      },
      "source": [
        "**WORD2VEC**"
      ]
    },
    {
      "cell_type": "code",
      "execution_count": null,
      "metadata": {
        "colab": {
          "base_uri": "https://localhost:8080/"
        },
        "id": "W9R9S6CCshxc",
        "outputId": "f4e183b1-297d-4da5-8aae-24754f2a723c"
      },
      "outputs": [
        {
          "output_type": "stream",
          "name": "stderr",
          "text": [
            "WARNING:gensim.models.word2vec:Effective 'alpha' higher than previous training cycles\n"
          ]
        },
        {
          "output_type": "stream",
          "name": "stdout",
          "text": [
            "Dimensi x_train_word2vec:  (627, 400)\n",
            "Dimensi x_test_word2vec:  (157, 400)\n"
          ]
        }
      ],
      "source": [
        "model_w2v = gensim.models.Word2Vec(\n",
        "    sentences=ulasan['stemming'],\n",
        "    vector_size=400,\n",
        "    window=5,\n",
        "    min_count=2,\n",
        "    sg=1,\n",
        "    hs=0,\n",
        "    negative=10,\n",
        "    workers=2,\n",
        "    seed=34,\n",
        "    epochs=20,\n",
        "    alpha=0.04,\n",
        "    min_alpha=0.0006\n",
        ")\n",
        "\n",
        "model_w2v.train(ulasan['stemming'], total_examples=len(ulasan['stemming']), epochs=20)\n",
        "\n",
        "def word_vector(tokens, size):\n",
        "    vec = np.zeros(size).reshape((1, size))\n",
        "    count = 0.\n",
        "    for word in tokens:\n",
        "        try:\n",
        "            vec += model_w2v.wv[word].reshape((1, size))\n",
        "            count += 1.\n",
        "        except KeyError:\n",
        "            continue\n",
        "    if count != 0:\n",
        "        vec /= count\n",
        "    return vec\n",
        "\n",
        "x_train_word2vec = np.concatenate([word_vector(tokens, 400) for tokens in x_train])\n",
        "x_test_word2vec = np.concatenate([word_vector(tokens, 400) for tokens in x_test])\n",
        "\n",
        "print(\"Dimensi x_train_word2vec: \", x_train_word2vec.shape)\n",
        "print(\"Dimensi x_test_word2vec: \", x_test_word2vec.shape)\n",
        "\n",
        "np.save('x_train_word2vec.npy', x_train_word2vec)\n",
        "np.save('x_test_word2vec.npy', x_test_word2vec)"
      ]
    },
    {
      "cell_type": "markdown",
      "metadata": {
        "id": "L7iWuXn91m8u"
      },
      "source": [
        "**SVM TF-IDF DENGAN K-FOLD CROSS VALIDATION**"
      ]
    },
    {
      "cell_type": "code",
      "execution_count": null,
      "metadata": {
        "colab": {
          "base_uri": "https://localhost:8080/"
        },
        "id": "J-NVEgnrsh9q",
        "outputId": "97cbc0e0-5aac-45a9-87dd-59c8af049822"
      },
      "outputs": [
        {
          "output_type": "stream",
          "name": "stdout",
          "text": [
            "Parameter terbaik: {'C': 0.5, 'gamma': 'scale', 'kernel': 'linear'}\n",
            "Akurasi terbaik: 0.8483809523809522\n",
            "\n",
            "Classification Report for TF-IDF with Best Parameters:\n",
            "              precision    recall  f1-score   support\n",
            "\n",
            "     Negatif       0.81      0.83      0.82        76\n",
            "     Positif       0.84      0.81      0.82        81\n",
            "\n",
            "    accuracy                           0.82       157\n",
            "   macro avg       0.82      0.82      0.82       157\n",
            "weighted avg       0.82      0.82      0.82       157\n",
            "\n"
          ]
        }
      ],
      "source": [
        "param_grid = {\n",
        "    'C': [0.01, 0.05, 0.25, 0.5, 0.75, 1],\n",
        "    'kernel': ['linear', 'poly', 'rbf', 'sigmoid'],\n",
        "    'gamma': ['scale', 'auto']\n",
        "}\n",
        "\n",
        "sv_tfidf = SVC()\n",
        "grid_search = GridSearchCV(sv_tfidf, param_grid, cv=5, scoring='accuracy')\n",
        "grid_search.fit(x_train_tfidf, y_train)\n",
        "\n",
        "best_params = grid_search.best_params_\n",
        "best_accuracy_tfidf = grid_search.best_score_\n",
        "print(f\"Parameter terbaik: {best_params}\")\n",
        "print(f\"Akurasi terbaik: {best_accuracy_tfidf}\")\n",
        "\n",
        "sv_tfidf_best = SVC(C=best_params['C'], kernel=best_params['kernel'], gamma=best_params['gamma'])\n",
        "sv_tfidf_best.fit(x_train_tfidf, y_train)\n",
        "\n",
        "print(\"\\nClassification Report for TF-IDF with Best Parameters:\")\n",
        "print(classification_report(y_test, sv_tfidf_best.predict(x_test_tfidf)))"
      ]
    },
    {
      "cell_type": "markdown",
      "metadata": {
        "id": "GovA2c2S1rZc"
      },
      "source": [
        "**SVM WORD2VEC DENGAN K-FOLD CROSS VALIDATION**"
      ]
    },
    {
      "cell_type": "code",
      "execution_count": null,
      "metadata": {
        "colab": {
          "base_uri": "https://localhost:8080/"
        },
        "id": "Q-0ZDdVYx_3S",
        "outputId": "212d206d-1491-473f-da8c-c9dfd3e83b5d"
      },
      "outputs": [
        {
          "output_type": "stream",
          "name": "stdout",
          "text": [
            "Parameter terbaik: {'C': 1, 'gamma': 'scale', 'kernel': 'poly'}\n",
            "Akurasi terbaik: 0.8453661034306196\n",
            "\n",
            "Classification Report for Word2Vec with Best Parameters:\n",
            "              precision    recall  f1-score   support\n",
            "\n",
            "     Negatif       0.84      0.87      0.85        76\n",
            "     Positif       0.87      0.84      0.86        81\n",
            "\n",
            "    accuracy                           0.85       157\n",
            "   macro avg       0.85      0.85      0.85       157\n",
            "weighted avg       0.85      0.85      0.85       157\n",
            "\n"
          ]
        }
      ],
      "source": [
        "param_grid = {\n",
        "    'C': [0.01, 0.05, 0.25, 0.5, 0.75, 1],\n",
        "    'kernel': ['linear', 'poly', 'rbf', 'sigmoid'],\n",
        "    'gamma': ['scale', 'auto']\n",
        "}\n",
        "\n",
        "sv_word2vec = SVC()\n",
        "grid_search = GridSearchCV(sv_word2vec, param_grid, cv=10, scoring='accuracy')\n",
        "grid_search.fit(x_train_word2vec, y_train)\n",
        "\n",
        "best_params = grid_search.best_params_\n",
        "best_accuracy_word2vec = grid_search.best_score_\n",
        "print(f\"Parameter terbaik: {best_params}\")\n",
        "print(f\"Akurasi terbaik: {best_accuracy_word2vec}\")\n",
        "\n",
        "sv_word2vec_best = SVC(C=best_params['C'], kernel=best_params['kernel'], gamma=best_params['gamma'])\n",
        "sv_word2vec_best.fit(x_train_word2vec, y_train)\n",
        "\n",
        "print(\"\\nClassification Report for Word2Vec with Best Parameters:\")\n",
        "print(classification_report(y_test, sv_word2vec_best.predict(x_test_word2vec)))"
      ]
    },
    {
      "cell_type": "markdown",
      "metadata": {
        "id": "ySSZOP_ylQwf"
      },
      "source": [
        "**UBAH KE PICKLE**"
      ]
    },
    {
      "cell_type": "code",
      "execution_count": null,
      "metadata": {
        "id": "87O5Hljch0jl"
      },
      "outputs": [],
      "source": [
        "with open('model_word2vec.pkl', 'wb') as f:\n",
        "    pickle.dump(model_w2v, f)\n",
        "\n",
        "with open('model_svm_word2vec.pkl', 'wb') as f:\n",
        "    pickle.dump(sv_word2vec_best, f)"
      ]
    }
  ],
  "metadata": {
    "colab": {
      "provenance": []
    },
    "kernelspec": {
      "display_name": "Python 3",
      "name": "python3"
    },
    "language_info": {
      "name": "python"
    }
  },
  "nbformat": 4,
  "nbformat_minor": 0
}