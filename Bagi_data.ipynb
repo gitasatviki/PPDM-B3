{
  "nbformat": 4,
  "nbformat_minor": 0,
  "metadata": {
    "colab": {
      "provenance": []
    },
    "kernelspec": {
      "name": "python3",
      "display_name": "Python 3"
    },
    "language_info": {
      "name": "python"
    }
  },
  "cells": [
    {
      "cell_type": "markdown",
      "source": [
        "Scraping Data"
      ],
      "metadata": {
        "id": "BeXs8CteMZ6T"
      }
    },
    {
      "cell_type": "code",
      "source": [
        "!pip install google-play-scraper"
      ],
      "metadata": {
        "id": "mojhaRDcMcth"
      },
      "execution_count": null,
      "outputs": []
    },
    {
      "cell_type": "code",
      "source": [
        "from google_play_scraper import app\n",
        "\n",
        "import pandas as pd\n",
        "\n",
        "import numpy as np"
      ],
      "metadata": {
        "id": "Siq_BZ5mMdRE"
      },
      "execution_count": null,
      "outputs": []
    },
    {
      "cell_type": "code",
      "source": [
        "from google_play_scraper import Sort, reviews_all\n",
        "\n",
        "result = reviews_all(\n",
        "    'com.pinterest',\n",
        "    sleep_milliseconds=0,\n",
        "    lang='id',\n",
        "    country='id',\n",
        "    sort=Sort.NEWEST,\n",
        ")"
      ],
      "metadata": {
        "id": "HrtxdlRoMitm"
      },
      "execution_count": null,
      "outputs": []
    },
    {
      "cell_type": "code",
      "source": [
        "df_busu = pd.DataFrame(np.array(result),columns=['review'])\n",
        "\n",
        "df_busu = df_busu.join(pd.DataFrame(df_busu.pop('review').tolist()))\n",
        "\n",
        "df_busu.head()"
      ],
      "metadata": {
        "id": "-Q-lzOFeMljE"
      },
      "execution_count": null,
      "outputs": []
    },
    {
      "cell_type": "code",
      "source": [
        "len(df_busu.index)"
      ],
      "metadata": {
        "id": "3Bs8qe-4MoRp"
      },
      "execution_count": null,
      "outputs": []
    },
    {
      "cell_type": "code",
      "source": [
        "df_busu[['userName', 'score','at', 'content']].head()"
      ],
      "metadata": {
        "id": "WmBdvLPsMqK6"
      },
      "execution_count": null,
      "outputs": []
    },
    {
      "cell_type": "code",
      "source": [
        "new_df = df_busu[['userName', 'score','at', 'content']]\n",
        "sorted_df = new_df.sort_values(by='at', ascending=False)\n",
        "sorted_df.head()"
      ],
      "metadata": {
        "id": "MQFtHPzcMuaK"
      },
      "execution_count": null,
      "outputs": []
    },
    {
      "cell_type": "code",
      "source": [
        "my_df = sorted_df[['userName', 'score','at', 'content']]"
      ],
      "metadata": {
        "id": "C_KtmUkrMxDV"
      },
      "execution_count": null,
      "outputs": []
    },
    {
      "cell_type": "code",
      "source": [
        "my_df.head()"
      ],
      "metadata": {
        "id": "dOcEIUkKM0b7"
      },
      "execution_count": null,
      "outputs": []
    },
    {
      "cell_type": "code",
      "source": [
        "my_df.to_csv(\"scrapped_data.csv\", index = False)"
      ],
      "metadata": {
        "id": "XxESCgzZM2tC"
      },
      "execution_count": null,
      "outputs": []
    },
    {
      "cell_type": "markdown",
      "source": [
        "Label Data Sesuai Rating"
      ],
      "metadata": {
        "id": "zYk2Uc4ayEro"
      }
    },
    {
      "cell_type": "code",
      "execution_count": null,
      "metadata": {
        "colab": {
          "base_uri": "https://localhost:8080/"
        },
        "id": "9RtcqDeCvDQS",
        "outputId": "ffea70d8-80cc-4ba6-8fc9-33e4733bbdd3"
      },
      "outputs": [
        {
          "output_type": "stream",
          "name": "stdout",
          "text": [
            "Hasil klasifikasi telah disimpan dalam file: hALO.csv\n"
          ]
        }
      ],
      "source": [
        "import csv\n",
        "\n",
        "def klasifikasi_sentimen(bintang):\n",
        "    if bintang == '1' or bintang == '2':\n",
        "        return 'Negatif'\n",
        "    elif bintang == '3':\n",
        "        return 'Netral'\n",
        "    elif bintang == '4' or bintang == '5':\n",
        "        return 'Positif'\n",
        "    else:\n",
        "        return 'Tidak Valid'\n",
        "\n",
        "def baca_csv(nama_file):\n",
        "    ulasan = []\n",
        "    with open(nama_file, 'r', encoding='utf-8') as file_csv:\n",
        "        reader = csv.DictReader(file_csv)\n",
        "        for row in reader:\n",
        "            bintang = row['score']\n",
        "            ulasan_teks = row['content']\n",
        "            dated = row['at']\n",
        "            sentimen = klasifikasi_sentimen(bintang)\n",
        "            ulasan.append((bintang, sentimen, ulasan_teks, dated))\n",
        "    return ulasan\n",
        "\n",
        "def tulis_csv(nama_file, ulasan):\n",
        "    with open(nama_file, 'w', newline='', encoding='utf-8') as file_csv:\n",
        "        writer = csv.writer(file_csv)\n",
        "        writer.writerow(['dated','rating', 'label', 'review'])\n",
        "        for bintang, sentimen, ulasan_teks, dated in ulasan:\n",
        "            writer.writerow([dated, bintang, sentimen, ulasan_teks])\n",
        "\n",
        "def main():\n",
        "    nama_file_input = 'scrapped_data.csv'\n",
        "    nama_file_output = 'pinterest.csv'\n",
        "\n",
        "    ulasan = baca_csv(nama_file_input)\n",
        "\n",
        "    tulis_csv(nama_file_output, ulasan)\n",
        "\n",
        "    print(\"Hasil klasifikasi telah disimpan dalam file:\", nama_file_output)\n",
        "\n",
        "if __name__ == \"__main__\":\n",
        "    main()\n"
      ]
    },
    {
      "cell_type": "markdown",
      "source": [
        "Lihat Banyak Data"
      ],
      "metadata": {
        "id": "uOZX64gryBMU"
      }
    },
    {
      "cell_type": "code",
      "source": [
        "import pandas as pd\n",
        "\n",
        "df = pd.read_csv('pinterest.csv')\n",
        "\n",
        "positive_count = df[df['label'] == 'Positif'].shape[0]\n",
        "negative_count = df[df['label'] == 'Negatif'].shape[0]\n",
        "neutral_count = df[df['label'] == 'Netral'].shape[0]\n",
        "\n",
        "import matplotlib.pyplot as plt\n",
        "\n",
        "labels = ['Positif', 'Negatif', 'Netral']\n",
        "counts = [positive_count, negative_count, neutral_count]\n",
        "\n",
        "plt.bar(labels, counts, color=['green', 'red', 'blue'])\n",
        "plt.xlabel('Sentiment')\n",
        "plt.ylabel('Count')\n",
        "plt.title('Sentiment Distribution')\n",
        "\n",
        "for i in range(len(labels)):\n",
        "    plt.text(labels[i], counts[i], str(counts[i]), ha='center', va='bottom')\n",
        "\n",
        "plt.show()\n"
      ],
      "metadata": {
        "colab": {
          "base_uri": "https://localhost:8080/",
          "height": 472
        },
        "id": "_Iqc3vD8x_4O",
        "outputId": "04464254-68a4-4348-d9e1-71f31646e527"
      },
      "execution_count": null,
      "outputs": [
        {
          "output_type": "display_data",
          "data": {
            "text/plain": [
              "<Figure size 640x480 with 1 Axes>"
            ],
            "image/png": "[encoded data removed]"
          },
          "metadata": {}
        }
      ]
    },
    {
      "cell_type": "markdown",
      "source": [
        "Bagi data"
      ],
      "metadata": {
        "id": "d9nkbDK11aTc"
      }
    },
    {
      "cell_type": "code",
      "source": [
        "import pandas as pd\n",
        "\n",
        "df = pd.read_csv('pinterest.csv')\n",
        "\n",
        "positive_comments = df[df['label'] == 'Positif']\n",
        "negative_comments = df[df['label'] == 'Negatif']\n",
        "\n",
        "min_count = min(len(positive_comments), len(negative_comments))\n",
        "balanced_positive_comments = positive_comments.tail(min_count)\n",
        "balanced_negative_comments = negative_comments.tail(min_count)\n",
        "\n",
        "balanced_df = pd.concat([balanced_positive_comments, balanced_negative_comments])\n",
        "\n",
        "sorted_df = balanced_df.sort_values(by='dated', ascending=False)\n",
        "\n",
        "sorted_df.to_csv('pinterest_rata.csv', index=False)\n",
        "\n",
        "print(\"Data telah disimpan ke dalam file\")\n"
      ],
      "metadata": {
        "colab": {
          "base_uri": "https://localhost:8080/"
        },
        "id": "5eqCimt91X5X",
        "outputId": "5fb947f8-cc9a-46fe-f0c2-69da06b71c16"
      },
      "execution_count": null,
      "outputs": [
        {
          "output_type": "stream",
          "name": "stdout",
          "text": [
            "Data telah disimpan ke dalam file\n"
          ]
        }
      ]
    },
    {
      "cell_type": "markdown",
      "source": [
        "Cek Data Jumlah Sama"
      ],
      "metadata": {
        "id": "BA6NL5gQ2rFe"
      }
    },
    {
      "cell_type": "code",
      "source": [
        "import pandas as pd\n",
        "\n",
        "df = pd.read_csv('pinterest_rata.csv')\n",
        "\n",
        "positive_count = df[df['label'] == 'Positif'].shape[0]\n",
        "negative_count = df[df['label'] == 'Negatif'].shape[0]\n",
        "\n",
        "import matplotlib.pyplot as plt\n",
        "\n",
        "labels = ['Positif', 'Negatif']\n",
        "counts = [positive_count, negative_count]\n",
        "\n",
        "plt.bar(labels, counts, color=['green', 'red'])\n",
        "plt.xlabel('Sentiment')\n",
        "plt.ylabel('Count')\n",
        "plt.title('Sentiment Distribution')\n",
        "\n",
        "for i in range(len(labels)):\n",
        "    plt.text(labels[i], counts[i], str(counts[i]), ha='center', va='bottom')\n",
        "plt.show()\n"
      ],
      "metadata": {
        "colab": {
          "base_uri": "https://localhost:8080/",
          "height": 472
        },
        "id": "gsHL7Svy2rYV",
        "outputId": "203be3f7-e827-4fe1-cea0-934f0b4fbfd0"
      },
      "execution_count": null,
      "outputs": [
        {
          "output_type": "display_data",
          "data": {
            "text/plain": [
              "<Figure size 640x480 with 1 Axes>"
            ],
            "image/png": "[encoded data removed]"
          },
          "metadata": {}
        }
      ]
    }
  ]
}